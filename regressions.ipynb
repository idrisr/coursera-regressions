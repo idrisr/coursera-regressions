{
 "metadata": {
  "name": "",
  "signature": "sha256:7a1fad9c51ee3c1595c51141f02c138d252d0c41a8acf7e3c442532803060ea6"
 },
 "nbformat": 3,
 "nbformat_minor": 0,
 "worksheets": [
  {
   "cells": [
    {
     "cell_type": "markdown",
     "metadata": {},
     "source": [
      "# Table of Contents\n",
      "\n",
      "* [Definition of Terms](#termdef)\n",
      "* [Week 1](#week1)\n",
      "* [Week 2](#week2)\n",
      "    * [Statistical Linear Regression Models](#statisticallinearregressionmodels)\n",
      "    * Interpreting Regression Coefficients\n",
      "    * Statistical Regression Models Examples\n",
      "    * Residuals\n",
      "    * Properties of Residuals\n",
      "    * Residual Variation\n",
      "    * [Inference in Regression](#inferenceinregression)\n",
      "    * [Tests for Regression Coefficients](#testsforregressioncoefficients)\n",
      "    * Prediction Intervals\n",
      "    * Multivariate Regressions\n",
      "    * Multivariable Least Squares\n",
      "    * More Multivariable Least Squares\n",
      "    * Multivariable Linear Models Interpretation\n",
      "* [Idris Raja](#Idris)"
     ]
    },
    {
     "cell_type": "markdown",
     "metadata": {},
     "source": [
      "<a id='termdef'></a>\n",
      "# Term Definitions\n",
      "TODO: Complete\n",
      "\n",
      "* $\\hat Y$ : Predicted $Y$, aka the fitted value\n",
      "* $\\bar Y$: Sample Mean\n",
      "* $\\mu$: Population Mean\n",
      "* $\\beta_n$: model coefficient\n",
      "* $s$\n",
      "* $\\sigma$"
     ]
    },
    {
     "cell_type": "markdown",
     "metadata": {},
     "source": [
      "<a id='week1'></a>\n",
      "# Coursera Regressions Week 1"
     ]
    },
    {
     "cell_type": "markdown",
     "metadata": {},
     "source": [
      "# Least Squares"
     ]
    },
    {
     "cell_type": "code",
     "collapsed": false,
     "input": [
      "import pandas as pd\n",
      "import matplotlib.pyplot as plt\n",
      "import rpy2\n",
      "%load_ext rpy2.ipython\n",
      "%matplotlib inline"
     ],
     "language": "python",
     "metadata": {},
     "outputs": [
      {
       "output_type": "stream",
       "stream": "stdout",
       "text": [
        "Loading required package: vimcom\n",
        "Loading required package: testthat\n",
        "Loading required package: setwidth\n"
       ]
      }
     ],
     "prompt_number": 8
    },
    {
     "cell_type": "code",
     "collapsed": false,
     "input": [
      "heig = pd.DataFrame.from_csv('data/Galton.csv', index_col=None)\n",
      "heig = pd.melt(heig, value_vars = ['child', 'parent'], value_name = 'height')"
     ],
     "language": "python",
     "metadata": {},
     "outputs": [],
     "prompt_number": 9
    },
    {
     "cell_type": "code",
     "collapsed": false,
     "input": [
      "%%R -i heig\n",
      "require(ggplot2)\n",
      "df <- as.data.frame(heig)\n",
      "g <- ggplot(heig, aes(height, fill=variable)) + geom_histogram(binwidth=1) + theme_bw()\n",
      "g <- g + facet_grid(~variable)\n",
      "\n",
      "g"
     ],
     "language": "python",
     "metadata": {},
     "outputs": [
      {
       "metadata": {},
       "output_type": "display_data",
       "text": [
        "Loading required package: ggplot2\n"
       ]
      },
      {
       "metadata": {},
       "output_type": "display_data",
       "png": "[encoded data removed]"
      }
     ],
     "prompt_number": 10
    },
    {
     "cell_type": "markdown",
     "metadata": {},
     "source": [
      "# Find the middle via least squares"
     ]
    },
    {
     "cell_type": "markdown",
     "metadata": {},
     "source": [
      "Let $Y_i$ be the height of child $i$ for $i = 1, ..., n = 928$ then define the middle as the value of $\\mu$ that minimizes\n",
      "\n",
      "$\\sum\\limits_{i=1}^n (Y_i - \\mu)^2$\n",
      "\n",
      "* The middle gives us the 'physical' center of mass of the graph\n",
      "* You might have guessed that the answer that minimizes the squared distance above is $\\mu = \\bar{Y}$"
     ]
    },
    {
     "cell_type": "markdown",
     "metadata": {},
     "source": [
      "# Experiment\n",
      "<a id='experiment'></a>"
     ]
    },
    {
     "cell_type": "markdown",
     "metadata": {},
     "source": [
      "$\\sum\\limits_{i=1}^n (Y_i - \\mu)^2$\n"
     ]
    },
    {
     "cell_type": "markdown",
     "metadata": {},
     "source": [
      "Let's try different values of $\\mu$ to see where the minimal value is above"
     ]
    },
    {
     "cell_type": "code",
     "collapsed": false,
     "input": [
      "child = heig[heig['variable'] == 'child']"
     ],
     "language": "python",
     "metadata": {},
     "outputs": [],
     "prompt_number": 11
    },
    {
     "cell_type": "code",
     "collapsed": false,
     "input": [
      "import numpy as np\n",
      "child.head()"
     ],
     "language": "python",
     "metadata": {},
     "outputs": [
      {
       "html": [
        "<div style=\"max-height:1000px;max-width:1500px;overflow:auto;\">\n",
        "<table border=\"1\" class=\"dataframe\">\n",
        "  <thead>\n",
        "    <tr style=\"text-align: right;\">\n",
        "      <th></th>\n",
        "      <th>variable</th>\n",
        "      <th>height</th>\n",
        "    </tr>\n",
        "  </thead>\n",
        "  <tbody>\n",
        "    <tr>\n",
        "      <th>0</th>\n",
        "      <td> child</td>\n",
        "      <td> 61.7</td>\n",
        "    </tr>\n",
        "    <tr>\n",
        "      <th>1</th>\n",
        "      <td> child</td>\n",
        "      <td> 61.7</td>\n",
        "    </tr>\n",
        "    <tr>\n",
        "      <th>2</th>\n",
        "      <td> child</td>\n",
        "      <td> 61.7</td>\n",
        "    </tr>\n",
        "    <tr>\n",
        "      <th>3</th>\n",
        "      <td> child</td>\n",
        "      <td> 61.7</td>\n",
        "    </tr>\n",
        "    <tr>\n",
        "      <th>4</th>\n",
        "      <td> child</td>\n",
        "      <td> 61.7</td>\n",
        "    </tr>\n",
        "  </tbody>\n",
        "</table>\n",
        "</div>"
       ],
       "metadata": {},
       "output_type": "pyout",
       "prompt_number": 12,
       "text": [
        "  variable  height\n",
        "0    child    61.7\n",
        "1    child    61.7\n",
        "2    child    61.7\n",
        "3    child    61.7\n",
        "4    child    61.7"
       ]
      }
     ],
     "prompt_number": 12
    },
    {
     "cell_type": "code",
     "collapsed": false,
     "input": [
      "hrange = np.arange(child['height'].min(), child['height'].max(), .5)"
     ],
     "language": "python",
     "metadata": {},
     "outputs": [],
     "prompt_number": 13
    },
    {
     "cell_type": "code",
     "collapsed": false,
     "input": [
      "MSE = lambda x: ((child.height - x)**2).mean()"
     ],
     "language": "python",
     "metadata": {},
     "outputs": [],
     "prompt_number": 14
    },
    {
     "cell_type": "code",
     "collapsed": false,
     "input": [
      "MSEdf = pd.DataFrame([(_, MSE(_)) for _ in hrange], columns = ['mu', 'MSE'])"
     ],
     "language": "python",
     "metadata": {},
     "outputs": [],
     "prompt_number": 15
    },
    {
     "cell_type": "markdown",
     "metadata": {},
     "source": [
      "### Let's plot different values for $\\mu$ and see what we get"
     ]
    },
    {
     "cell_type": "code",
     "collapsed": false,
     "input": [
      "pd.DataFrame.plot(MSEdf, x = 'mu', y='MSE', title='Minimizing Mu')"
     ],
     "language": "python",
     "metadata": {},
     "outputs": [
      {
       "metadata": {},
       "output_type": "pyout",
       "prompt_number": 16,
       "text": [
        "<matplotlib.axes._subplots.AxesSubplot at 0x1070a67d0>"
       ]
      },
      {
       "metadata": {},
       "output_type": "display_data",
       "png": "[encoded data removed]",
       "text": [
        "<matplotlib.figure.Figure at 0x1070a6e50>"
       ]
      }
     ],
     "prompt_number": 16
    },
    {
     "cell_type": "code",
     "collapsed": false,
     "input": [
      "child.mean()"
     ],
     "language": "python",
     "metadata": {},
     "outputs": [
      {
       "metadata": {},
       "output_type": "pyout",
       "prompt_number": 17,
       "text": [
        "height    68.08847\n",
        "dtype: float64"
       ]
      }
     ],
     "prompt_number": 17
    },
    {
     "cell_type": "markdown",
     "metadata": {},
     "source": [
      "<img \"source=(/images/least_squares.proof.jpg\">"
     ]
    },
    {
     "cell_type": "markdown",
     "metadata": {},
     "source": [
      "<img src='images/least_squares_proof.png'>\n",
      "\n",
      "* $\\bar{Y}$ : different guesses for $\\mu$\n",
      "* $\\mu$ : value that minimizes $\\sum\\limits_{i=1}^n (Y_i - \\mu)^2$\n",
      "\n",
      "He adds and subtracts $\\bar{Y}$ and then expands and simplifies.\n",
      "\n",
      "The end result is that for any arbitrary $\\mu$, the sum will be greater than the sum when $\\bar{Y} = \\mu$"
     ]
    },
    {
     "cell_type": "markdown",
     "metadata": {},
     "source": [
      "# Comparing childrens' heights and their parents' heights"
     ]
    },
    {
     "cell_type": "code",
     "collapsed": false,
     "input": [
      "# reimport so I don't have to unmelt\n",
      "heig = pd.DataFrame.from_csv('data/Galton.csv', index_col=None)\n",
      "# get counts of values for the bubble plot\n",
      "h = pd.DataFrame({'count' : heig.groupby( [ \"child\", \"parent\"] ).size()}).reset_index()\n",
      "h[:10]"
     ],
     "language": "python",
     "metadata": {},
     "outputs": [
      {
       "html": [
        "<div style=\"max-height:1000px;max-width:1500px;overflow:auto;\">\n",
        "<table border=\"1\" class=\"dataframe\">\n",
        "  <thead>\n",
        "    <tr style=\"text-align: right;\">\n",
        "      <th></th>\n",
        "      <th>child</th>\n",
        "      <th>parent</th>\n",
        "      <th>count</th>\n",
        "    </tr>\n",
        "  </thead>\n",
        "  <tbody>\n",
        "    <tr>\n",
        "      <th>0</th>\n",
        "      <td> 61.7</td>\n",
        "      <td> 64.0</td>\n",
        "      <td> 1</td>\n",
        "    </tr>\n",
        "    <tr>\n",
        "      <th>1</th>\n",
        "      <td> 61.7</td>\n",
        "      <td> 64.5</td>\n",
        "      <td> 1</td>\n",
        "    </tr>\n",
        "    <tr>\n",
        "      <th>2</th>\n",
        "      <td> 61.7</td>\n",
        "      <td> 65.5</td>\n",
        "      <td> 1</td>\n",
        "    </tr>\n",
        "    <tr>\n",
        "      <th>3</th>\n",
        "      <td> 61.7</td>\n",
        "      <td> 68.5</td>\n",
        "      <td> 1</td>\n",
        "    </tr>\n",
        "    <tr>\n",
        "      <th>4</th>\n",
        "      <td> 61.7</td>\n",
        "      <td> 70.5</td>\n",
        "      <td> 1</td>\n",
        "    </tr>\n",
        "    <tr>\n",
        "      <th>5</th>\n",
        "      <td> 62.2</td>\n",
        "      <td> 64.5</td>\n",
        "      <td> 1</td>\n",
        "    </tr>\n",
        "    <tr>\n",
        "      <th>6</th>\n",
        "      <td> 62.2</td>\n",
        "      <td> 66.5</td>\n",
        "      <td> 3</td>\n",
        "    </tr>\n",
        "    <tr>\n",
        "      <th>7</th>\n",
        "      <td> 62.2</td>\n",
        "      <td> 67.5</td>\n",
        "      <td> 3</td>\n",
        "    </tr>\n",
        "    <tr>\n",
        "      <th>8</th>\n",
        "      <td> 63.2</td>\n",
        "      <td> 64.0</td>\n",
        "      <td> 2</td>\n",
        "    </tr>\n",
        "    <tr>\n",
        "      <th>9</th>\n",
        "      <td> 63.2</td>\n",
        "      <td> 64.5</td>\n",
        "      <td> 4</td>\n",
        "    </tr>\n",
        "  </tbody>\n",
        "</table>\n",
        "</div>"
       ],
       "metadata": {},
       "output_type": "pyout",
       "prompt_number": 18,
       "text": [
        "   child  parent  count\n",
        "0   61.7    64.0      1\n",
        "1   61.7    64.5      1\n",
        "2   61.7    65.5      1\n",
        "3   61.7    68.5      1\n",
        "4   61.7    70.5      1\n",
        "5   62.2    64.5      1\n",
        "6   62.2    66.5      3\n",
        "7   62.2    67.5      3\n",
        "8   63.2    64.0      2\n",
        "9   63.2    64.5      4"
       ]
      }
     ],
     "prompt_number": 18
    },
    {
     "cell_type": "code",
     "collapsed": false,
     "input": [
      "%%R -i h\n",
      "require(ggplot2)\n",
      "require(hexbin)\n",
      "df <- as.data.frame(h)\n",
      "g <- ggplot(df, aes(parent, child, size=count)) + geom_point() + ggtitle(\"Bubble Plot of Height\")\n",
      "g + theme_bw()"
     ],
     "language": "python",
     "metadata": {},
     "outputs": [
      {
       "metadata": {},
       "output_type": "display_data",
       "text": [
        "Loading required package: hexbin\n"
       ]
      },
      {
       "metadata": {},
       "output_type": "display_data",
       "png": "[encoded data removed]"
      }
     ],
     "prompt_number": 19
    },
    {
     "cell_type": "markdown",
     "metadata": {},
     "source": [
      "## Regression through the origin"
     ]
    },
    {
     "cell_type": "markdown",
     "metadata": {},
     "source": [
      "Suppose that $X_i$ are the parent's heights"
     ]
    },
    {
     "cell_type": "markdown",
     "metadata": {},
     "source": [
      "Consider picking the slope $\\beta$ that minimizes"
     ]
    },
    {
     "cell_type": "markdown",
     "metadata": {},
     "source": [
      "$\\sum\\limits_{i=1}^n (Y_i - X_i\\beta)^2$ -- this in effect is trying to minimize the error value $\\epsilon$\n",
      "\n",
      "This is using the origin as a pivot point picking the line that minimizes the sum of the squared vertical distances of the points to the line\n",
      "\n",
      "A line through the origin is:\n",
      "\n",
      "$y = x\\beta$\n",
      "\n",
      "* It has a y-intercept of 0.\n",
      "* the slope is $\\beta$\n",
      "* $x_i\\beta=\\hat{y}$ is the fitted value\n",
      "* $y_i - \\hat{y}$ is the vertical distance between the data point and the fitted line\n",
      "* is it NOT the orthoganol distance\n",
      "* we don't really want the line go through the origin\n",
      "* if we subtract the means so that the origin is the mean of the parents' and child's heights, then going through the origin makes sense\n",
      "* the origin is the average of both variables\n",
      "\n",
      "\n",
      "\n",
      "* $\\mu$: population mean\n",
      "* $\\bar X$: sample mean\n",
      "* $\\sigma$: population standard deviation\n",
      "* $s$: sample standard deviation"
     ]
    },
    {
     "cell_type": "code",
     "collapsed": false,
     "input": [
      "col = 'child'\n",
      "h[col] = h[col] - h[col].mean()\n",
      "col = 'parent'\n",
      "h[col] = h[col] - h[col].mean()"
     ],
     "language": "python",
     "metadata": {},
     "outputs": [],
     "prompt_number": 20
    },
    {
     "cell_type": "code",
     "collapsed": false,
     "input": [
      "%%R -i h\n",
      "require(ggplot2)\n",
      "require(hexbin)\n",
      "df <- as.data.frame(h)\n",
      "g <- ggplot(df, aes(parent, child, size=count)) + geom_point() + ggtitle(\"Bubble Plot Height De-meaned\") + theme_bw()\n",
      "g2 <- geom_smooth(data=df, aes(parent, child, weight=count), colour='red', method=lm, se=FALSE)\n",
      "g3 <- geom_smooth(data=df, aes(parent, child), colour='green', method=lm, se=FALSE)\n",
      "g4 <- geom_smooth(data=df, aes(parent, child), colour='blue', method=loess, se=FALSE)\n",
      "g + g2 + g3 + g4 + theme(legend.position=\"none\")"
     ],
     "language": "python",
     "metadata": {},
     "outputs": [
      {
       "metadata": {},
       "output_type": "display_data",
       "png": "[encoded data removed]"
      }
     ],
     "prompt_number": 21
    },
    {
     "cell_type": "markdown",
     "metadata": {},
     "source": [
      "Note the difference in the linear fit when the size of the dots is considered.\n",
      "* red = size considered\n",
      "* green = size not considered\n",
      "* blue = loess"
     ]
    },
    {
     "cell_type": "markdown",
     "metadata": {},
     "source": [
      "### Find the best $\\beta$"
     ]
    },
    {
     "cell_type": "markdown",
     "metadata": {},
     "source": [
      "find:\n",
      "\n",
      "$\\min\\sum\\limits_{i=1}^n (Y_i - X_i\\beta)^2$\n"
     ]
    },
    {
     "cell_type": "code",
     "collapsed": false,
     "input": [
      "col = 'child'\n",
      "heig[col] = heig[col] - heig[col].mean()\n",
      "col = 'parent'\n",
      "heig[col] = heig[col] - heig[col].mean()"
     ],
     "language": "python",
     "metadata": {},
     "outputs": [],
     "prompt_number": 22
    },
    {
     "cell_type": "code",
     "collapsed": false,
     "input": [
      "MSE = lambda beta: ((heig['child'] - heig['parent'] * beta)**2).mean()"
     ],
     "language": "python",
     "metadata": {},
     "outputs": [],
     "prompt_number": 23
    },
    {
     "cell_type": "code",
     "collapsed": false,
     "input": [
      "# try slopes between -3 and 3\n",
      "betas = np.arange(-3, 3, .01)"
     ],
     "language": "python",
     "metadata": {},
     "outputs": [],
     "prompt_number": 24
    },
    {
     "cell_type": "code",
     "collapsed": false,
     "input": [
      "df = pd.DataFrame([(beta, MSE(beta),) for beta in betas], columns = ['beta', 'MSE'])"
     ],
     "language": "python",
     "metadata": {},
     "outputs": [],
     "prompt_number": 25
    },
    {
     "cell_type": "code",
     "collapsed": false,
     "input": [
      "df.plot(x = 'beta', y='MSE', title = 'finding the best Beta empirically')"
     ],
     "language": "python",
     "metadata": {},
     "outputs": [
      {
       "metadata": {},
       "output_type": "pyout",
       "prompt_number": 26,
       "text": [
        "<matplotlib.axes._subplots.AxesSubplot at 0x1070b6490>"
       ]
      },
      {
       "metadata": {},
       "output_type": "display_data",
       "png": "[encoded data removed]",
       "text": [
        "<matplotlib.figure.Figure at 0x1070d91d0>"
       ]
      }
     ],
     "prompt_number": 26
    },
    {
     "cell_type": "code",
     "collapsed": false,
     "input": [
      "min_beta = float(df[df['MSE']==df['MSE'].min()]['beta'])\n",
      "df[df['MSE']==df['MSE'].min()]"
     ],
     "language": "python",
     "metadata": {},
     "outputs": [
      {
       "html": [
        "<div style=\"max-height:1000px;max-width:1500px;overflow:auto;\">\n",
        "<table border=\"1\" class=\"dataframe\">\n",
        "  <thead>\n",
        "    <tr style=\"text-align: right;\">\n",
        "      <th></th>\n",
        "      <th>beta</th>\n",
        "      <th>MSE</th>\n",
        "    </tr>\n",
        "  </thead>\n",
        "  <tbody>\n",
        "    <tr>\n",
        "      <th>365</th>\n",
        "      <td> 0.65</td>\n",
        "      <td> 5.000338</td>\n",
        "    </tr>\n",
        "  </tbody>\n",
        "</table>\n",
        "</div>"
       ],
       "metadata": {},
       "output_type": "pyout",
       "prompt_number": 27,
       "text": [
        "     beta       MSE\n",
        "365  0.65  5.000338"
       ]
      }
     ],
     "prompt_number": 27
    },
    {
     "cell_type": "code",
     "collapsed": false,
     "input": [
      "float(min_beta)"
     ],
     "language": "python",
     "metadata": {},
     "outputs": [
      {
       "metadata": {},
       "output_type": "pyout",
       "prompt_number": 28,
       "text": [
        "0.6499999999999222"
       ]
      }
     ],
     "prompt_number": 28
    },
    {
     "cell_type": "markdown",
     "metadata": {},
     "source": [
      "## Lets create the linear regression and see if we get the same answer"
     ]
    },
    {
     "cell_type": "markdown",
     "metadata": {},
     "source": [
      "### Using scipy"
     ]
    },
    {
     "cell_type": "code",
     "collapsed": false,
     "input": [
      "from scipy.stats import linregress"
     ],
     "language": "python",
     "metadata": {},
     "outputs": [],
     "prompt_number": 29
    },
    {
     "cell_type": "code",
     "collapsed": false,
     "input": [
      "slope, intercept, rvalue, pvalue, stderr = linregress(heig['parent'], heig['child'])"
     ],
     "language": "python",
     "metadata": {},
     "outputs": [],
     "prompt_number": 30
    },
    {
     "cell_type": "code",
     "collapsed": false,
     "input": [
      "slope"
     ],
     "language": "python",
     "metadata": {},
     "outputs": [
      {
       "metadata": {},
       "output_type": "pyout",
       "prompt_number": 31,
       "text": [
        "0.64629058199363942"
       ]
      }
     ],
     "prompt_number": 31
    },
    {
     "cell_type": "code",
     "collapsed": false,
     "input": [
      "MSE(slope)"
     ],
     "language": "python",
     "metadata": {},
     "outputs": [
      {
       "metadata": {},
       "output_type": "pyout",
       "prompt_number": 32,
       "text": [
        "5.0002937655516639"
       ]
      }
     ],
     "prompt_number": 32
    },
    {
     "cell_type": "markdown",
     "metadata": {},
     "source": [
      "### Using StatsModels"
     ]
    },
    {
     "cell_type": "code",
     "collapsed": false,
     "input": [
      "import statsmodels.formula.api as sm"
     ],
     "language": "python",
     "metadata": {},
     "outputs": [],
     "prompt_number": 33
    },
    {
     "cell_type": "code",
     "collapsed": false,
     "input": [
      "result = sm.ols(formula=\"child ~ parent\", data=heig).fit()"
     ],
     "language": "python",
     "metadata": {},
     "outputs": [],
     "prompt_number": 34
    },
    {
     "cell_type": "code",
     "collapsed": false,
     "input": [
      "result.summary()"
     ],
     "language": "python",
     "metadata": {},
     "outputs": [
      {
       "html": [
        "<table class=\"simpletable\">\n",
        "<caption>OLS Regression Results</caption>\n",
        "<tr>\n",
        "  <th>Dep. Variable:</th>          <td>child</td>      <th>  R-squared:         </th> <td>   0.210</td>\n",
        "</tr>\n",
        "<tr>\n",
        "  <th>Model:</th>                   <td>OLS</td>       <th>  Adj. R-squared:    </th> <td>   0.210</td>\n",
        "</tr>\n",
        "<tr>\n",
        "  <th>Method:</th>             <td>Least Squares</td>  <th>  F-statistic:       </th> <td>   246.8</td>\n",
        "</tr>\n",
        "<tr>\n",
        "  <th>Date:</th>             <td>Sat, 20 Sep 2014</td> <th>  Prob (F-statistic):</th> <td>1.73e-49</td>\n",
        "</tr>\n",
        "<tr>\n",
        "  <th>Time:</th>                 <td>01:51:24</td>     <th>  Log-Likelihood:    </th> <td> -2063.6</td>\n",
        "</tr>\n",
        "<tr>\n",
        "  <th>No. Observations:</th>      <td>   928</td>      <th>  AIC:               </th> <td>   4131.</td>\n",
        "</tr>\n",
        "<tr>\n",
        "  <th>Df Residuals:</th>          <td>   926</td>      <th>  BIC:               </th> <td>   4141.</td>\n",
        "</tr>\n",
        "<tr>\n",
        "  <th>Df Model:</th>              <td>     1</td>      <th>                     </th>     <td> </td>   \n",
        "</tr>\n",
        "</table>\n",
        "<table class=\"simpletable\">\n",
        "<tr>\n",
        "      <td></td>         <th>coef</th>     <th>std err</th>      <th>t</th>      <th>P>|t|</th> <th>[95.0% Conf. Int.]</th> \n",
        "</tr>\n",
        "<tr>\n",
        "  <th>Intercept</th> <td>-1.493e-14</td> <td>    0.073</td> <td>-2.03e-13</td> <td> 1.000</td> <td>   -0.144     0.144</td>\n",
        "</tr>\n",
        "<tr>\n",
        "  <th>parent</th>    <td>    0.6463</td> <td>    0.041</td> <td>   15.711</td> <td> 0.000</td> <td>    0.566     0.727</td>\n",
        "</tr>\n",
        "</table>\n",
        "<table class=\"simpletable\">\n",
        "<tr>\n",
        "  <th>Omnibus:</th>       <td>11.057</td> <th>  Durbin-Watson:     </th> <td>   0.046</td>\n",
        "</tr>\n",
        "<tr>\n",
        "  <th>Prob(Omnibus):</th> <td> 0.004</td> <th>  Jarque-Bera (JB):  </th> <td>  10.944</td>\n",
        "</tr>\n",
        "<tr>\n",
        "  <th>Skew:</th>          <td>-0.241</td> <th>  Prob(JB):          </th> <td> 0.00420</td>\n",
        "</tr>\n",
        "<tr>\n",
        "  <th>Kurtosis:</th>      <td> 2.775</td> <th>  Cond. No.          </th> <td>    1.79</td>\n",
        "</tr>\n",
        "</table>"
       ],
       "metadata": {},
       "output_type": "pyout",
       "prompt_number": 35,
       "text": [
        "<class 'statsmodels.iolib.summary.Summary'>\n",
        "\"\"\"\n",
        "                            OLS Regression Results                            \n",
        "==============================================================================\n",
        "Dep. Variable:                  child   R-squared:                       0.210\n",
        "Model:                            OLS   Adj. R-squared:                  0.210\n",
        "Method:                 Least Squares   F-statistic:                     246.8\n",
        "Date:                Sat, 20 Sep 2014   Prob (F-statistic):           1.73e-49\n",
        "Time:                        01:51:24   Log-Likelihood:                -2063.6\n",
        "No. Observations:                 928   AIC:                             4131.\n",
        "Df Residuals:                     926   BIC:                             4141.\n",
        "Df Model:                           1                                         \n",
        "==============================================================================\n",
        "                 coef    std err          t      P>|t|      [95.0% Conf. Int.]\n",
        "------------------------------------------------------------------------------\n",
        "Intercept  -1.493e-14      0.073  -2.03e-13      1.000        -0.144     0.144\n",
        "parent         0.6463      0.041     15.711      0.000         0.566     0.727\n",
        "==============================================================================\n",
        "Omnibus:                       11.057   Durbin-Watson:                   0.046\n",
        "Prob(Omnibus):                  0.004   Jarque-Bera (JB):               10.944\n",
        "Skew:                          -0.241   Prob(JB):                      0.00420\n",
        "Kurtosis:                       2.775   Cond. No.                         1.79\n",
        "==============================================================================\n",
        "\"\"\""
       ]
      }
     ],
     "prompt_number": 35
    },
    {
     "cell_type": "markdown",
     "metadata": {},
     "source": [
      "# Some Basic Notation and Background"
     ]
    },
    {
     "cell_type": "markdown",
     "metadata": {},
     "source": [
      "We write $X_1, X_2, ... X_n$ to describe $n$ data points"
     ]
    },
    {
     "cell_type": "markdown",
     "metadata": {},
     "source": [
      "* Uppercase $X$ for a random variable\n",
      "* lowercase $x$ for a particular value\n",
      "* greek letters for things we don't know"
     ]
    },
    {
     "cell_type": "markdown",
     "metadata": {},
     "source": [
      "Empirical Mean\n",
      "\n",
      "$\\hat{X} = \\dfrac{1}{n}\\sum\\limits_{i=1}^n X_i$"
     ]
    },
    {
     "cell_type": "markdown",
     "metadata": {},
     "source": [
      "If we subtract the mean from all data points, we get data that has a mean of 0.\n",
      "\n",
      "$\\hat{X_i} = X_i - \\hat{X} = 0$"
     ]
    },
    {
     "cell_type": "markdown",
     "metadata": {},
     "source": [
      "Remember the mean is the least squares solution for minimizing:\n",
      "    \n",
      "$\\sum\\limits_{i=1}^n (X_i - \\mu)^2$\n",
      "\n",
      "    "
     ]
    },
    {
     "cell_type": "markdown",
     "metadata": {},
     "source": [
      "# The empirical standard deviation and variance"
     ]
    },
    {
     "cell_type": "markdown",
     "metadata": {},
     "source": [
      "$\\text{Variance: } s^2 = \\dfrac{1}{n-1}\\sum\\limits_{i = 1}^n {\\left( {X_i - \\bar X} \\right)^2 } $"
     ]
    },
    {
     "cell_type": "markdown",
     "metadata": {},
     "source": [
      "# Normalization\n",
      "\n",
      "$Z_i = \\dfrac{X_i - \\bar x}{s}$\n",
      "\n",
      "* Normalizing gives an empiricial mean of zero and a empirical standard deviation of 0\n",
      "* Its units are described in standard deviations from the mean\n",
      "* A z value of 2 means the normalized observation is 2 standard deviations from the mean"
     ]
    },
    {
     "cell_type": "markdown",
     "metadata": {},
     "source": [
      "# The empirical covariance"
     ]
    },
    {
     "cell_type": "markdown",
     "metadata": {},
     "source": [
      "of $n$ observations is ..\n",
      "\n",
      "$Cov(X, Y) = \\dfrac{1}{n-1}\\sum\\limits_{i=1}^n(X_i - \\hat X)(Y_i - \\hat Y) = \\dfrac{1}{n-1}\\left(\\sum\\limits_{i=1}^nX_iY_i - n\\hat X\\hat Y\\right)$\n",
      "\n",
      "* think of covariance as a function that takes two vectors as an input\n",
      "* has the units of X and Y"
     ]
    },
    {
     "cell_type": "markdown",
     "metadata": {},
     "source": [
      "## Correlation is:"
     ]
    },
    {
     "cell_type": "markdown",
     "metadata": {},
     "source": [
      "$ Cor(X, Y) = \\dfrac{Cov(X, Y)}{S_xS_y}$"
     ]
    },
    {
     "cell_type": "markdown",
     "metadata": {},
     "source": [
      "Where\n",
      "\n",
      "* $S_x$ is the estimate of the standard deviation for the $X$ observations\n",
      "* $S_y$ is the estimate of the standard deviation for the $Y$ observations\n",
      "* Unit free, between -1 and 1"
     ]
    },
    {
     "cell_type": "markdown",
     "metadata": {},
     "source": [
      "$Cor(X, Y) = \\pm 1$ only when the $X$ or $Y$ observations fall perfectly on a posivite or negative sloped line"
     ]
    },
    {
     "cell_type": "markdown",
     "metadata": {},
     "source": [
      "$Cor(X, Y) = 0$ implies no linear relationship"
     ]
    },
    {
     "cell_type": "markdown",
     "metadata": {},
     "source": [
      "# Least squares estimation of regression lines"
     ]
    },
    {
     "cell_type": "markdown",
     "metadata": {},
     "source": [
      "* Let $Y_i$ be the $i^{th}$ child's height\n",
      "* Let $X_i$ be the $i^{th}$ parents' average height\n",
      "\n",
      "Consider finding the best line\n",
      "\n",
      "Child's Height = $\\beta_0$ + Parent's Height $\\cdot \\beta_1$\n",
      "\n",
      "Use least squares\n",
      "\n",
      "\n",
      "$\n",
      "\\sum\\limits_{i=1}^n(Y_i - (\\beta_0 + \\beta_1X_i))^2 \n",
      "$\n",
      "- the difference between the actual and the predicted\n",
      "\n",
      "$\n",
      "\\sum\\limits_{i=1}^n{\\big(Y_i - \\hat Y\\big)}^2 \n",
      "$ - the difference between the actual and the predicted\n",
      "\n",
      "Oh how the fuck how do we do it?"
     ]
    },
    {
     "cell_type": "markdown",
     "metadata": {},
     "source": [
      "# Mean only regression"
     ]
    },
    {
     "cell_type": "markdown",
     "metadata": {},
     "source": [
      "So after a lot of stuff...\n",
      "\n",
      "$\n",
      "\\hat\\beta_1 = \\dfrac{\\sum\\limits_{i=1}^n Y_iX_i}{\\sum\\limits_{i=1}^nX_i^2}\n",
      "$\n",
      "\n",
      "When we restrict the line through the origin"
     ]
    },
    {
     "cell_type": "markdown",
     "metadata": {},
     "source": [
      "# Figuring out the final forms we can use to get $\\beta_n$"
     ]
    },
    {
     "cell_type": "markdown",
     "metadata": {},
     "source": [
      "... lots of math... which can be summarized as\n",
      "\n",
      "$\\hat \\beta_1 = Cor(Y, X) \\dfrac{S_dY}{S_dX}$\n",
      "\n",
      "also stated as\n",
      "\n",
      "$\\dfrac{\\sum(X-\\bar X) \\sum (Y - \\bar Y)}{\\sum(X - \\bar X)^2}$\n",
      "\n",
      "and \n",
      "\n",
      "$\\hat \\beta_0 = \\bar Y - \\hat \\beta_1 \\bar X$\n",
      "\n",
      "And our regression line always travels through $(\\bar X, \\bar Y)$"
     ]
    },
    {
     "cell_type": "code",
     "collapsed": false,
     "input": [
      "heig = pd.DataFrame.from_csv('data/Galton.csv', index_col=None)\n",
      "heig.head()"
     ],
     "language": "python",
     "metadata": {},
     "outputs": [
      {
       "html": [
        "<div style=\"max-height:1000px;max-width:1500px;overflow:auto;\">\n",
        "<table border=\"1\" class=\"dataframe\">\n",
        "  <thead>\n",
        "    <tr style=\"text-align: right;\">\n",
        "      <th></th>\n",
        "      <th>child</th>\n",
        "      <th>parent</th>\n",
        "    </tr>\n",
        "  </thead>\n",
        "  <tbody>\n",
        "    <tr>\n",
        "      <th>0</th>\n",
        "      <td> 61.7</td>\n",
        "      <td> 70.5</td>\n",
        "    </tr>\n",
        "    <tr>\n",
        "      <th>1</th>\n",
        "      <td> 61.7</td>\n",
        "      <td> 68.5</td>\n",
        "    </tr>\n",
        "    <tr>\n",
        "      <th>2</th>\n",
        "      <td> 61.7</td>\n",
        "      <td> 65.5</td>\n",
        "    </tr>\n",
        "    <tr>\n",
        "      <th>3</th>\n",
        "      <td> 61.7</td>\n",
        "      <td> 64.5</td>\n",
        "    </tr>\n",
        "    <tr>\n",
        "      <th>4</th>\n",
        "      <td> 61.7</td>\n",
        "      <td> 64.0</td>\n",
        "    </tr>\n",
        "  </tbody>\n",
        "</table>\n",
        "</div>"
       ],
       "metadata": {},
       "output_type": "pyout",
       "prompt_number": 29,
       "text": [
        "   child  parent\n",
        "0   61.7    70.5\n",
        "1   61.7    68.5\n",
        "2   61.7    65.5\n",
        "3   61.7    64.5\n",
        "4   61.7    64.0"
       ]
      }
     ],
     "prompt_number": 29
    },
    {
     "cell_type": "code",
     "collapsed": false,
     "input": [
      "y = 'child'\n",
      "x = 'parent'\n",
      "\n",
      "beta1 = heig[y].corr(heig[x]) * heig[y].std() / heig[x].std()"
     ],
     "language": "python",
     "metadata": {},
     "outputs": [],
     "prompt_number": 30
    },
    {
     "cell_type": "code",
     "collapsed": false,
     "input": [
      "beta0 = heig[y].mean() - beta1 * heig[x].mean()\n",
      "beta0"
     ],
     "language": "python",
     "metadata": {},
     "outputs": [
      {
       "metadata": {},
       "output_type": "pyout",
       "prompt_number": 31,
       "text": [
        "23.941530180421658"
       ]
      }
     ],
     "prompt_number": 31
    },
    {
     "cell_type": "code",
     "collapsed": false,
     "input": [
      "beta1"
     ],
     "language": "python",
     "metadata": {},
     "outputs": [
      {
       "metadata": {},
       "output_type": "pyout",
       "prompt_number": 32,
       "text": [
        "0.64629058199351186"
       ]
      }
     ],
     "prompt_number": 32
    },
    {
     "cell_type": "code",
     "collapsed": false,
     "input": [
      "result = sm.ols(formula=\"child ~ parent\", data=heig).fit()"
     ],
     "language": "python",
     "metadata": {},
     "outputs": [],
     "prompt_number": 33
    },
    {
     "cell_type": "code",
     "collapsed": false,
     "input": [
      "result.params"
     ],
     "language": "python",
     "metadata": {},
     "outputs": [
      {
       "metadata": {},
       "output_type": "pyout",
       "prompt_number": 34,
       "text": [
        "Intercept    23.941530\n",
        "parent        0.646291\n",
        "dtype: float64"
       ]
      }
     ],
     "prompt_number": 34
    },
    {
     "cell_type": "markdown",
     "metadata": {},
     "source": [
      "# Regression to the Mean"
     ]
    },
    {
     "cell_type": "markdown",
     "metadata": {},
     "source": [
      "$P(Y < x| X=x)$ gets bigger as $x$ heads to very large values\n",
      "\n",
      "$P(Y > x| X=x)$ gets bigger as $x$ heads to very small values"
     ]
    },
    {
     "cell_type": "markdown",
     "metadata": {},
     "source": [
      "# Quiz"
     ]
    },
    {
     "cell_type": "markdown",
     "metadata": {},
     "source": [
      "### q1"
     ]
    },
    {
     "cell_type": "code",
     "collapsed": false,
     "input": [
      "# q1 - what's a better way to do this?\n",
      "x = [0.18, -1.54, 0.42, 0.95]\n",
      "w = [2, 1, 3, 1]"
     ],
     "language": "python",
     "metadata": {},
     "outputs": [],
     "prompt_number": 35
    },
    {
     "cell_type": "markdown",
     "metadata": {},
     "source": [
      "Give the value of $\\mu$ that minimizes $\\sum\\limits_{i=1}^nw_i(x_i - \\mu)^2$"
     ]
    },
    {
     "cell_type": "code",
     "collapsed": false,
     "input": [
      "df = pd.DataFrame([x, w]).T\n",
      "df.columns = ['x', 'w']\n",
      "df"
     ],
     "language": "python",
     "metadata": {},
     "outputs": [
      {
       "html": [
        "<div style=\"max-height:1000px;max-width:1500px;overflow:auto;\">\n",
        "<table border=\"1\" class=\"dataframe\">\n",
        "  <thead>\n",
        "    <tr style=\"text-align: right;\">\n",
        "      <th></th>\n",
        "      <th>x</th>\n",
        "      <th>w</th>\n",
        "    </tr>\n",
        "  </thead>\n",
        "  <tbody>\n",
        "    <tr>\n",
        "      <th>0</th>\n",
        "      <td> 0.18</td>\n",
        "      <td> 2</td>\n",
        "    </tr>\n",
        "    <tr>\n",
        "      <th>1</th>\n",
        "      <td>-1.54</td>\n",
        "      <td> 1</td>\n",
        "    </tr>\n",
        "    <tr>\n",
        "      <th>2</th>\n",
        "      <td> 0.42</td>\n",
        "      <td> 3</td>\n",
        "    </tr>\n",
        "    <tr>\n",
        "      <th>3</th>\n",
        "      <td> 0.95</td>\n",
        "      <td> 1</td>\n",
        "    </tr>\n",
        "  </tbody>\n",
        "</table>\n",
        "</div>"
       ],
       "metadata": {},
       "output_type": "pyout",
       "prompt_number": 36,
       "text": [
        "      x  w\n",
        "0  0.18  2\n",
        "1 -1.54  1\n",
        "2  0.42  3\n",
        "3  0.95  1"
       ]
      }
     ],
     "prompt_number": 36
    },
    {
     "cell_type": "code",
     "collapsed": false,
     "input": [
      "square = lambda x: x**2\n",
      "f1 = lambda mu: (df['w'] * (df['x'] - mu).apply(square)).sum()"
     ],
     "language": "python",
     "metadata": {},
     "outputs": [],
     "prompt_number": 37
    },
    {
     "cell_type": "code",
     "collapsed": false,
     "input": [
      "mus = np.arange(0, 1, .00001)\n",
      "f1(.18)"
     ],
     "language": "python",
     "metadata": {},
     "outputs": [
      {
       "metadata": {},
       "output_type": "pyout",
       "prompt_number": 38,
       "text": [
        "3.7241"
       ]
      }
     ]
    },
    {
     "cell_type": "code",
     "collapsed": false,
     "input": [
      "mus = pd.DataFrame([(mu, f1(mu),) for mu in mus], columns = ['mu', 'fx'])"
     ],
     "language": "python",
     "metadata": {},
     "outputs": []
    },
    {
     "cell_type": "code",
     "collapsed": false,
     "input": [
      "pd.DataFrame.plot(mus, x = 'mu', y='fx', title='Minimizing Mu')"
     ],
     "language": "python",
     "metadata": {},
     "outputs": []
    },
    {
     "cell_type": "code",
     "collapsed": false,
     "input": [
      "mus[mus['fx']==mus['fx'].min()]"
     ],
     "language": "python",
     "metadata": {},
     "outputs": []
    },
    {
     "cell_type": "code",
     "collapsed": false,
     "input": [
      "# q2\n",
      "x = [0.8, 0.47, 0.51, 0.73, 0.36, 0.58, 0.57, 0.85, 0.44, 0.42]\n",
      "y = [1.39, 0.72, 1.55, 0.48, 1.19, -1.59, 1.23, -0.65, 1.49, 0.05]\n",
      "df = pd.DataFrame([x, y]).T\n",
      "df.columns = ['x', 'y']\n",
      "df.head()"
     ],
     "language": "python",
     "metadata": {},
     "outputs": []
    },
    {
     "cell_type": "code",
     "collapsed": false,
     "input": [
      "#result = sm.ols(formula=\"child ~ parent\", data=heig).fit()\n",
      "# y intercept set to zero\n",
      "result = sm.ols(formula=\"y ~ x - 1\", data=df).fit()"
     ],
     "language": "python",
     "metadata": {},
     "outputs": []
    },
    {
     "cell_type": "code",
     "collapsed": false,
     "input": [
      "result.summary()"
     ],
     "language": "python",
     "metadata": {},
     "outputs": []
    },
    {
     "cell_type": "markdown",
     "metadata": {},
     "source": [
      "## So that's the code way to do it. Let's do it symbolically too.\n",
      "\n",
      "$\\beta_1 = \\dfrac{\\sum(X_i - \\bar X)(Y_i - \\bar Y)}{\\sum(X_i - \\bar X)^2}$\n",
      "\n",
      "wait... that's close.\n",
      "\n",
      "But for a RTO (\"regression through origin\")\n",
      "Remember that $\\bar X$ and $\\bar Y$ for a RTO are both $0$\n",
      "\n",
      "$\\beta_1 = \\dfrac{\\sum X_iY_i}{\\sum X_i^2}$"
     ]
    },
    {
     "cell_type": "code",
     "collapsed": false,
     "input": [
      "x = 'x'\n",
      "y = 'y'\n",
      "num = (df[x] * df[y]).sum()\n",
      "den = (df[x]).apply(square).sum()"
     ],
     "language": "python",
     "metadata": {},
     "outputs": []
    },
    {
     "cell_type": "code",
     "collapsed": false,
     "input": [
      "num / den"
     ],
     "language": "python",
     "metadata": {},
     "outputs": []
    },
    {
     "cell_type": "markdown",
     "metadata": {},
     "source": [
      "### q3"
     ]
    },
    {
     "cell_type": "code",
     "collapsed": false,
     "input": [
      "%%R -i x\n",
      "require(dataset)\n",
      "data(mtcars)\n",
      "head(mtcars)\n",
      "lm(mpg~wt, data=mtcars)"
     ],
     "language": "python",
     "metadata": {},
     "outputs": []
    },
    {
     "cell_type": "markdown",
     "metadata": {},
     "source": [
      "## q4 \n",
      "\n",
      "Consider data with an outcome (Y) and a predictor (X). The standard deviation of the predictor is one half that of the outcome. The correlation between the two variables is .5. What value would the slope coefficient for the regression model with Y as the outcome and X as the predictor?\n",
      "\n",
      "* $Cor(X, Y) = \\frac{1}{2}$\n",
      "* $2 \\cdot S_d(X) = S_d(Y)$\n",
      "* $\\hat \\beta_1 = Cor(Y, X) \\dfrac{S_dY}{S_dX}$\n",
      "* $\\hat \\beta_1 = \\frac{1}{2} \\dfrac{2S_dY}{S_dX} = \\frac{1}{2}\\cdot\\frac{2}{1}$\n"
     ]
    },
    {
     "cell_type": "markdown",
     "metadata": {},
     "source": [
      "### q5"
     ]
    },
    {
     "cell_type": "markdown",
     "metadata": {},
     "source": [
      "Students were given two hard tests and scores were normalized to have empirical mean 0 and variance 1. The correlation between the scores on the two tests was 0.4. What would be the expected score on Quiz 2 for a student who had a normalized score of 1.5 on Quiz 1?"
     ]
    },
    {
     "cell_type": "markdown",
     "metadata": {},
     "source": [
      "$Cor(q1, q2) = 0.4 $\n",
      "\n",
      "$ Z_{q1} = 1.5 $"
     ]
    },
    {
     "cell_type": "code",
     "collapsed": false,
     "input": [
      "1.5 *0.4 #???"
     ],
     "language": "python",
     "metadata": {},
     "outputs": []
    },
    {
     "cell_type": "markdown",
     "metadata": {},
     "source": [
      "### q6"
     ]
    },
    {
     "cell_type": "code",
     "collapsed": false,
     "input": [
      "x = [8.58, 10.46, 9.01, 9.64, 8.86]\n",
      "s = pd.Series(x)"
     ],
     "language": "python",
     "metadata": {},
     "outputs": []
    },
    {
     "cell_type": "code",
     "collapsed": false,
     "input": [
      "# normalized values\n",
      "ns = (s - s.mean())/s.std()\n",
      "ns"
     ],
     "language": "python",
     "metadata": {},
     "outputs": []
    },
    {
     "cell_type": "code",
     "collapsed": false,
     "input": [
      "ns.mean()"
     ],
     "language": "python",
     "metadata": {},
     "outputs": []
    },
    {
     "cell_type": "markdown",
     "metadata": {},
     "source": [
      "### q7"
     ]
    },
    {
     "cell_type": "code",
     "collapsed": false,
     "input": [
      "df"
     ],
     "language": "python",
     "metadata": {},
     "outputs": []
    },
    {
     "cell_type": "code",
     "collapsed": false,
     "input": [
      "result = sm.ols(\"y ~ x\", data=df).fit()"
     ],
     "language": "python",
     "metadata": {},
     "outputs": []
    },
    {
     "cell_type": "code",
     "collapsed": false,
     "input": [
      "result.summary()"
     ],
     "language": "python",
     "metadata": {},
     "outputs": []
    },
    {
     "cell_type": "markdown",
     "metadata": {},
     "source": [
      "### q9"
     ]
    },
    {
     "cell_type": "markdown",
     "metadata": {},
     "source": [
      "What value minimizes the sum of the squared distances between these points and itself?\n",
      "\n",
      "By definition: see [this](#experiment)"
     ]
    },
    {
     "cell_type": "code",
     "collapsed": false,
     "input": [
      "df['x'].mean()"
     ],
     "language": "python",
     "metadata": {},
     "outputs": [
      {
       "ename": "NameError",
       "evalue": "name 'df' is not defined",
       "output_type": "pyerr",
       "traceback": [
        "\u001b[0;31m---------------------------------------------------------------------------\u001b[0m\n\u001b[0;31mNameError\u001b[0m                                 Traceback (most recent call last)",
        "\u001b[0;32m<ipython-input-7-1c6ef808e38e>\u001b[0m in \u001b[0;36m<module>\u001b[0;34m()\u001b[0m\n\u001b[0;32m----> 1\u001b[0;31m \u001b[0mdf\u001b[0m\u001b[0;34m[\u001b[0m\u001b[0;34m'x'\u001b[0m\u001b[0;34m]\u001b[0m\u001b[0;34m.\u001b[0m\u001b[0mmean\u001b[0m\u001b[0;34m(\u001b[0m\u001b[0;34m)\u001b[0m\u001b[0;34m\u001b[0m\u001b[0m\n\u001b[0m",
        "\u001b[0;31mNameError\u001b[0m: name 'df' is not defined"
       ]
      }
     ],
     "prompt_number": 7
    },
    {
     "cell_type": "markdown",
     "metadata": {},
     "source": [
      "### q10"
     ]
    },
    {
     "cell_type": "markdown",
     "metadata": {},
     "source": [
      "Consider taking the slope having fit Y as the outcome and X as the predictor, \u03b21 and the slope from fitting X as the outcome and Y as the predictor, \u03b31, and dividing the two as \u03b21/\u03b31. What is this ratio always equal to"
     ]
    },
    {
     "cell_type": "code",
     "collapsed": false,
     "input": [
      "df"
     ],
     "language": "python",
     "metadata": {},
     "outputs": []
    },
    {
     "cell_type": "code",
     "collapsed": false,
     "input": [
      "r1 = sm.ols(\"x~y\", data=df).fit()\n",
      "r2 = sm.ols(\"y~x\", data=df).fit()"
     ],
     "language": "python",
     "metadata": {},
     "outputs": []
    },
    {
     "cell_type": "code",
     "collapsed": false,
     "input": [
      "r2.params.x / r1.params.y"
     ],
     "language": "python",
     "metadata": {},
     "outputs": []
    },
    {
     "cell_type": "code",
     "collapsed": false,
     "input": [
      "df['y'].var() / df['x'].var()"
     ],
     "language": "python",
     "metadata": {},
     "outputs": []
    },
    {
     "cell_type": "markdown",
     "metadata": {},
     "source": [
      "$\\beta_1 = Cor(X, Y)\\dfrac{S_y}{S_X}$\n",
      "\n",
      "$\\gamma_1 = Cor(X, Y)\\dfrac{S_X}{S_Y}$\n",
      "\n",
      "$\\dfrac{\\beta_1}{\\gamma_1} = \\dfrac{Cor(X, Y)\\dfrac{S_y}{S_X}}{Cor(X, Y)\\dfrac{S_X}{S_Y}}$"
     ]
    },
    {
     "cell_type": "markdown",
     "metadata": {},
     "source": [
      "$\\dfrac{S_Y}{S_X}\\cdot\\dfrac{S_Y}{S_X} = \\dfrac{S_Y^2}{S_X^2} = \\dfrac{Var(Y)}{Var(X)}$"
     ]
    },
    {
     "cell_type": "markdown",
     "metadata": {},
     "source": [
      "# Week 2\n",
      "<a id='week2'></a>"
     ]
    },
    {
     "cell_type": "markdown",
     "metadata": {},
     "source": [
      "<a id='statisticallinearregressionmodels'></a>\n",
      "## Statistical linear regression models"
     ]
    },
    {
     "cell_type": "markdown",
     "metadata": {},
     "source": [
      "### Basic regression model with additive Gaussian errors"
     ]
    },
    {
     "cell_type": "markdown",
     "metadata": {},
     "source": [
      "* Least squares is an estimation tool, how do we do inference?\n",
      "* Develop a probabilistic model for linear regression\n",
      "* $\\epsilon$ is the error\n",
      "\n",
      "$Y_i = \\beta_0 + \\beta_1X_i + \\epsilon_i$\n",
      "\n",
      "slope intercept line with error term"
     ]
    },
    {
     "cell_type": "markdown",
     "metadata": {},
     "source": [
      "Here the $\\epsilon_i$ are assumed iid $N(0, \\sigma^2)$"
     ]
    },
    {
     "cell_type": "markdown",
     "metadata": {},
     "source": [
      "$\n",
      "E[Y_i | X_i = x_i] = \\mu_i = \\beta_0 + \\beta_1x_i\n",
      "$\n",
      "\n",
      "The expected value of $Y_i$ given $x_i$ is the regression equation. You take the expected value of the equation above and the $E[\\epsilon_i]=0$"
     ]
    },
    {
     "cell_type": "markdown",
     "metadata": {},
     "source": [
      "$\n",
      "Var(Y_i | X_i = x_i) = \\sigma^2\n",
      "$"
     ]
    },
    {
     "cell_type": "markdown",
     "metadata": {},
     "source": [
      "## Likelihood\n",
      "\n",
      "* see the statistical inference class\n",
      "* The least squares estimate for $\\mu_i$ is exactly the maximum likelihood estimate"
     ]
    },
    {
     "cell_type": "markdown",
     "metadata": {},
     "source": [
      "## Recap\n",
      "<img \"src=images/likelihood_recap.png\"></img>"
     ]
    },
    {
     "cell_type": "markdown",
     "metadata": {},
     "source": [
      "## Interpreting regression coefficients"
     ]
    },
    {
     "cell_type": "markdown",
     "metadata": {},
     "source": [
      "$\\beta_0$ is the expected value of the response when the predictor is 0"
     ]
    },
    {
     "cell_type": "markdown",
     "metadata": {},
     "source": [
      "$E[Y|X=0] = \\beta_0 + \\beta_1 \\cdot 0 = \\beta_0$"
     ]
    },
    {
     "cell_type": "markdown",
     "metadata": {},
     "source": [
      "This isn't always interesting, when $X=0$ is impossible or far outside of the range of possible values"
     ]
    },
    {
     "cell_type": "markdown",
     "metadata": {},
     "source": [
      "  You can shift the data by $a$, which changes the intercept but not the slope. In this way you can make the intercept interesting"
     ]
    },
    {
     "cell_type": "markdown",
     "metadata": {},
     "source": [
      "$\\beta_1$ is the expected change in response for a 1 unit change in the predictor"
     ]
    },
    {
     "cell_type": "markdown",
     "metadata": {},
     "source": [
      "Multiplication of $X$ by a factor of $a$ results in dividing the coefficient by a factor of $a$"
     ]
    },
    {
     "cell_type": "markdown",
     "metadata": {},
     "source": [
      "### Using the regression coefficients for prediction"
     ]
    },
    {
     "cell_type": "markdown",
     "metadata": {},
     "source": [
      "$\\hat Y = \\hat \\beta_0 + \\hat \\beta_1X$\n",
      "\n",
      "* Why are these $\\hat \\beta$ instead of just $\\beta$?\n",
      "* Because the $\\beta$ values are just our estimations, specifically our least squares estimation\n",
      "\n",
      "<img src='images/prediction_question.png'></img>\n"
     ]
    },
    {
     "cell_type": "markdown",
     "metadata": {},
     "source": [
      "## Statistical Regression Models Examples"
     ]
    },
    {
     "cell_type": "code",
     "collapsed": false,
     "input": [
      "%%R -o diamond\n",
      "require(UsingR)\n",
      "require(ggplot2)\n",
      "data(diamond)\n",
      "g <- ggplot(diamond, aes(carat, price)) + geom_point() + theme_bw()\n",
      "g <- g + geom_smooth(method=lm, se=FALSE)\n",
      "g\n"
     ],
     "language": "python",
     "metadata": {},
     "outputs": []
    },
    {
     "cell_type": "code",
     "collapsed": false,
     "input": [
      "formula = \"price ~ carat\"\n",
      "r1 = sm.ols(formula, data=diamond).fit()"
     ],
     "language": "python",
     "metadata": {},
     "outputs": []
    },
    {
     "cell_type": "code",
     "collapsed": false,
     "input": [
      "r1.summary()"
     ],
     "language": "python",
     "metadata": {},
     "outputs": []
    },
    {
     "cell_type": "code",
     "collapsed": false,
     "input": [
      "# same formula, but subtracting out the carat mean to get a usable intercept values\n",
      "f = \"price ~ I(carat - carat.mean())\"\n",
      "r2 = sm.ols(f, data=diamond).fit()"
     ],
     "language": "python",
     "metadata": {},
     "outputs": []
    },
    {
     "cell_type": "code",
     "collapsed": false,
     "input": [
      "# note that the slope is the same\n",
      "print r1.params\n",
      "print r2.params\n",
      "print diamond.price.mean()"
     ],
     "language": "python",
     "metadata": {},
     "outputs": []
    },
    {
     "cell_type": "markdown",
     "metadata": {},
     "source": [
      "$500 (the intercept) is the expected price for the average sized diamond of the data.\n",
      "\n",
      "And the intercept is exactly the mean of the prices"
     ]
    },
    {
     "cell_type": "code",
     "collapsed": false,
     "input": [
      "diamond.price.mean()"
     ],
     "language": "python",
     "metadata": {},
     "outputs": []
    },
    {
     "cell_type": "markdown",
     "metadata": {},
     "source": [
      "### Changing Scale"
     ]
    },
    {
     "cell_type": "code",
     "collapsed": false,
     "input": [
      "# A one carat increase in diamond is pretty big.\n",
      "f = \"price ~ I(carat *10)\"\n",
      "r3 = sm.ols(f, data=diamond).fit()\n",
      "r3.params"
     ],
     "language": "python",
     "metadata": {},
     "outputs": []
    },
    {
     "cell_type": "code",
     "collapsed": false,
     "input": [
      "# And the slope is 1/coef we mutliplied the regressor by"
     ],
     "language": "python",
     "metadata": {},
     "outputs": []
    },
    {
     "cell_type": "code",
     "collapsed": false,
     "input": [
      "df = pd.DataFrame([0.16, 0.27, 0.34], columns=['carat'])\n",
      "df['price'] = r3.predict(df)\n",
      "df"
     ],
     "language": "python",
     "metadata": {},
     "outputs": []
    },
    {
     "cell_type": "code",
     "collapsed": false,
     "input": [
      "diamond['price_predict'] = r3.predict(diamond)"
     ],
     "language": "python",
     "metadata": {},
     "outputs": []
    },
    {
     "cell_type": "code",
     "collapsed": false,
     "input": [
      "%%R -i diamond\n",
      "g <- ggplot(diamond, aes(carat, price)) + geom_point(color='green')\n",
      "g <- g + geom_line(data=diamond, aes(carat, price_predict), colour='blue', linetype=2) \n",
      "g <- g + geom_point(data=diamond, aes(carat, price_predict), colour='red', shape=3) \n",
      "g + theme_bw()"
     ],
     "language": "python",
     "metadata": {},
     "outputs": []
    },
    {
     "cell_type": "code",
     "collapsed": false,
     "input": [
      "# green dots - actual observations\n",
      "# blue dashed line - predictions\n",
      "# red dashes - places where we made predictions. Note that these are the same x_i values where we have observed points"
     ],
     "language": "python",
     "metadata": {},
     "outputs": []
    },
    {
     "cell_type": "markdown",
     "metadata": {},
     "source": [
      "## Residuals and residual variation"
     ]
    },
    {
     "cell_type": "markdown",
     "metadata": {},
     "source": [
      "$\\hat Y_i = \\hat \\beta_0 + \\hat \\beta_1X_i$"
     ]
    },
    {
     "cell_type": "markdown",
     "metadata": {},
     "source": [
      "$e_i = Y_i - \\hat Y_i$ which is the vertical distance between the observed data point and the regression line\n",
      "\n",
      "$e_i \\neq \\epsilon_i$. \n",
      "\n",
      "$e_i$ is the observed error, not the true error which we don't get to know"
     ]
    },
    {
     "cell_type": "markdown",
     "metadata": {},
     "source": [
      "Least squares minimizes $\\sum\\limits_{i=1}^ne_i^2$\n",
      "\n",
      "The $e_i$ can be thought of as the estimates of the $\\epsilon_i$"
     ]
    },
    {
     "cell_type": "markdown",
     "metadata": {},
     "source": [
      "## Properties of the residuals\n"
     ]
    },
    {
     "cell_type": "markdown",
     "metadata": {},
     "source": [
      "<img \"src=images/properties_of_the_residuals.png\"/>"
     ]
    },
    {
     "cell_type": "markdown",
     "metadata": {},
     "source": [
      "* Useful for investigating poor model fit\n",
      "* Residuals can be thought of as the outcome $Y$ with the linear association of the predictor $X$ removed\n",
      "* residual variation is the variation after removing the systematic variation\n",
      "* residual plots highlight poor model fit"
     ]
    },
    {
     "cell_type": "code",
     "collapsed": false,
     "input": [
      "%%R -o diamond\n",
      "data(diamond)\n",
      "y <- diamond$price\n",
      "x <- diamond$carat\n",
      "n <- length(y)\n",
      "fit <- lm(y~x)\n",
      "e <- resid(fit)\n",
      "yhat <- predict(fit)\n",
      "max(abs(e - (y-yhat)))"
     ],
     "language": "python",
     "metadata": {},
     "outputs": []
    },
    {
     "cell_type": "code",
     "collapsed": false,
     "input": [
      "diamond\n",
      "x = diamond.carat\n",
      "y = diamond.price\n",
      "results = sm.ols(\"price ~ carat\", data=diamond).fit()"
     ],
     "language": "python",
     "metadata": {},
     "outputs": []
    },
    {
     "cell_type": "code",
     "collapsed": false,
     "input": [
      "e = results.resid"
     ],
     "language": "python",
     "metadata": {},
     "outputs": []
    },
    {
     "cell_type": "code",
     "collapsed": false,
     "input": [
      "yhat = results.predict()"
     ],
     "language": "python",
     "metadata": {},
     "outputs": []
    },
    {
     "cell_type": "code",
     "collapsed": false,
     "input": [
      "df = pd.DataFrame([e, y - yhat]).T\n",
      "df.columns = ['e', 'y - yhat']"
     ],
     "language": "python",
     "metadata": {},
     "outputs": []
    },
    {
     "cell_type": "code",
     "collapsed": false,
     "input": [
      "df.head()"
     ],
     "language": "python",
     "metadata": {},
     "outputs": []
    },
    {
     "cell_type": "code",
     "collapsed": false,
     "input": [
      "(df.e - df['y - yhat']).abs().max()"
     ],
     "language": "python",
     "metadata": {},
     "outputs": []
    },
    {
     "cell_type": "code",
     "collapsed": false,
     "input": [
      "from statsmodels.api import graphics"
     ],
     "language": "python",
     "metadata": {},
     "outputs": []
    },
    {
     "cell_type": "markdown",
     "metadata": {},
     "source": [
      "### What we're looking for is a pattern in the residuals.  A pattern indicates our model is missing something"
     ]
    },
    {
     "cell_type": "markdown",
     "metadata": {},
     "source": [
      "See [this](http://statsmodels.sourceforge.net/devel/examples/notebooks/generated/example_regression_plots.html) for more details on plotting regressions in statsmodels"
     ]
    },
    {
     "cell_type": "code",
     "collapsed": false,
     "input": [
      "fig, ax = plt.subplots(figsize=(12, 8))\n",
      "fig = graphics.plot_fit(results, \"carat\", ax=ax)"
     ],
     "language": "python",
     "metadata": {},
     "outputs": []
    },
    {
     "cell_type": "code",
     "collapsed": false,
     "input": [
      "fig, ax = plt.subplots(figsize=(12, 8))\n",
      "graphics.plot_regress_exog(results, \"carat\", fig)"
     ],
     "language": "python",
     "metadata": {},
     "outputs": []
    },
    {
     "cell_type": "code",
     "collapsed": false,
     "input": [
      "# generated data set\n",
      "from random import uniform, normalvariate, seed\n",
      "from math import sin"
     ],
     "language": "python",
     "metadata": {},
     "outputs": []
    },
    {
     "cell_type": "code",
     "collapsed": false,
     "input": [
      "seed(123)\n",
      "x = [uniform(-3, 3) for _ in xrange(100)]\n",
      "y = [_ + sin(_) + normalvariate(mu=100, sigma=.2) for _ in x]\n",
      "df = pd.DataFrame([_ for _ in zip(x, y)], columns = ['x', 'y'])\n",
      "df = df.sort('x')"
     ],
     "language": "python",
     "metadata": {},
     "outputs": []
    },
    {
     "cell_type": "code",
     "collapsed": false,
     "input": [
      "plt.scatter(df.y, df.x)"
     ],
     "language": "python",
     "metadata": {},
     "outputs": []
    },
    {
     "cell_type": "code",
     "collapsed": false,
     "input": [
      "results = sm.ols(\"y ~ x\", data=df).fit()"
     ],
     "language": "python",
     "metadata": {},
     "outputs": []
    },
    {
     "cell_type": "code",
     "collapsed": false,
     "input": [
      "# why does this show up twice??\n",
      "# todo: look at the source and figure \n",
      "fig, ax = plt.subplots(figsize=(12, 8))\n",
      "graphics.plot_regress_exog(results, \"x\", fig)"
     ],
     "language": "python",
     "metadata": {},
     "outputs": []
    },
    {
     "cell_type": "code",
     "collapsed": false,
     "input": [
      "plt.plot(df.x, results.resid, 'o')"
     ],
     "language": "python",
     "metadata": {},
     "outputs": []
    },
    {
     "cell_type": "markdown",
     "metadata": {},
     "source": [
      "### Heteroskedasticity\n",
      "\n",
      "* The model isn't right because the variance isn't constant as a function of $x$"
     ]
    },
    {
     "cell_type": "code",
     "collapsed": false,
     "input": [
      "x = [uniform(0, 6) for _ in xrange(100)]\n",
      "df = pd.DataFrame(x, columns = ['x'])"
     ],
     "language": "python",
     "metadata": {},
     "outputs": []
    },
    {
     "cell_type": "code",
     "collapsed": false,
     "input": [
      "ygen = lambda x: x + normalvariate(0, .001*x)\n",
      "df['y'] = [ygen(x) for x in df.x]"
     ],
     "language": "python",
     "metadata": {},
     "outputs": []
    },
    {
     "cell_type": "code",
     "collapsed": false,
     "input": [
      "df = df.sort('x')\n",
      "plt.plot(df.x, df.y, 'o')"
     ],
     "language": "python",
     "metadata": {},
     "outputs": []
    },
    {
     "cell_type": "code",
     "collapsed": false,
     "input": [
      "r_hetero = sm.ols(\"y~x\", data=df).fit()"
     ],
     "language": "python",
     "metadata": {},
     "outputs": []
    },
    {
     "cell_type": "code",
     "collapsed": false,
     "input": [
      "    plt.plot(df.x, r_hetero.resid, 'o')"
     ],
     "language": "python",
     "metadata": {},
     "outputs": []
    },
    {
     "cell_type": "code",
     "collapsed": false,
     "input": [
      "fig, ax = plt.subplots(figsize=(12, 8))\n",
      "graphics.plot_regress_exog(r_hetero, \"x\", fig)"
     ],
     "language": "python",
     "metadata": {},
     "outputs": []
    },
    {
     "cell_type": "markdown",
     "metadata": {},
     "source": [
      "* Residuals highlight stuff you will not see in scatter plots"
     ]
    },
    {
     "cell_type": "markdown",
     "metadata": {},
     "source": [
      "## Estimating Residual Variation"
     ]
    },
    {
     "cell_type": "markdown",
     "metadata": {},
     "source": [
      "* Model $Y_i = \\beta_0 + \\beta_1 X_i + \\epsilon_i$ where $\\epsilon_i \\sim N(0, \\sigma^2)$."
     ]
    },
    {
     "cell_type": "markdown",
     "metadata": {},
     "source": [
      "* The ML estimate of $\\sigma^2$ is $\\frac{1}{n}\\sum_{i=1}^n e_i^2$, the average squared residual."
     ]
    },
    {
     "cell_type": "markdown",
     "metadata": {},
     "source": [
      "* Most people use $$ \\hat \\sigma^2 = \\frac{1}{n-2}\\sum_{i=1}^n e_i^2. $$\n",
      "\n",
      "* The $n-2$ instead of $n$ is so that $E[\\hat \\sigma^2] = \\sigma^2$"
     ]
    },
    {
     "cell_type": "markdown",
     "metadata": {},
     "source": [
      "## Diamond Example"
     ]
    },
    {
     "cell_type": "code",
     "collapsed": false,
     "input": [
      "diamond.head()"
     ],
     "language": "python",
     "metadata": {},
     "outputs": []
    },
    {
     "cell_type": "code",
     "collapsed": false,
     "input": [
      "%%R\n",
      "y <- diamond$price; x <- diamond$carat; n <- length(y)\n",
      "fit <- lm(y ~ x)\n",
      "summary(fit)$sigma\n",
      "sqrt(sum(resid(fit)^2) / (n - 2))"
     ],
     "language": "python",
     "metadata": {},
     "outputs": []
    },
    {
     "cell_type": "code",
     "collapsed": false,
     "input": [
      "y = 'price'; x = 'carat'\n",
      "fit = sm.ols('%s ~ %s' % (y, x, ), data=diamond).fit()"
     ],
     "language": "python",
     "metadata": {},
     "outputs": []
    },
    {
     "cell_type": "code",
     "collapsed": false,
     "input": [
      "e = (fit.predict(diamond) - diamond.price)**2"
     ],
     "language": "python",
     "metadata": {},
     "outputs": []
    },
    {
     "cell_type": "markdown",
     "metadata": {},
     "source": [
      "* calculating:\n",
      "\n",
      "$$ \\hat \\sigma^2 = \\frac{1}{n-2}\\sum_{i=1}^n e_i^2. $$"
     ]
    },
    {
     "cell_type": "code",
     "collapsed": false,
     "input": [
      "from math import sqrt\n",
      "sigma = sqrt((e.shape[0]-2)**-1 * e.sum())\n",
      "sigma"
     ],
     "language": "python",
     "metadata": {},
     "outputs": []
    },
    {
     "cell_type": "code",
     "collapsed": false,
     "input": [
      "# Normalized by N-1 by default. This can be changed using the ddof argument\n",
      "sqrt(fit.resid.var(ddof=2))"
     ],
     "language": "python",
     "metadata": {},
     "outputs": []
    },
    {
     "cell_type": "markdown",
     "metadata": {},
     "source": [
      "## Summarizing Variation"
     ]
    },
    {
     "cell_type": "markdown",
     "metadata": {},
     "source": [
      "$$ \\sum_{i=1}^n (Y_i - \\bar Y)^2 = \\sum_{i=1}^n (Y_i - \\hat Y_i)^2 + \\sum_{i=1}^n (\\hat Y_i - \\bar Y)^2 $$\n",
      "\n",
      "Or\n",
      "\n",
      "Total Variation = Residual Variation + Regression Variation\n",
      "\n",
      "Define the percent of total varation described by the model as $$ R^2 = \\frac{\\sum_{i=1}^n (\\hat Y_i - \\bar Y)^2}{\\sum_{i=1}^n (Y_i - \\bar Y)^2} = 1 - \\frac{\\sum_{i=1}^n (Y_i - \\hat Y_i)^2}{\\sum_{i=1}^n (Y_i - \\bar Y)^2} $$\n",
      "\n"
     ]
    },
    {
     "cell_type": "markdown",
     "metadata": {},
     "source": [
      "### Key: \n",
      "\n",
      "$Y_i$ - $i^{th}$ obseration of $Y$\n",
      "\n",
      "$\\hat Y_i$ - Predicted value of $i^{th} Y$\n",
      "\n",
      "$n$ - number of observations\n",
      "\n",
      "$\\bar Y$ - Empirical mean of $Y$"
     ]
    },
    {
     "cell_type": "markdown",
     "metadata": {},
     "source": [
      "Total Variation = $\\sum_{i=1}^n (\\bar Y - Y_i)^2$"
     ]
    },
    {
     "cell_type": "markdown",
     "metadata": {},
     "source": [
      "Residual Variation = $\\sum_{i=1}^n(\\hat Y_i - Y_i)^2$"
     ]
    },
    {
     "cell_type": "markdown",
     "metadata": {},
     "source": [
      "Regression Variation = $\\sum_{i=1}^n (\\hat Y_i - \\bar Y)^2$"
     ]
    },
    {
     "cell_type": "markdown",
     "metadata": {},
     "source": [
      "$R^2 = \\dfrac{\\text{Regression Variation}}{\\text{Total Variation}} = 1 - \\dfrac{\\text{Residual Variation}}{\\text{Total Variation}}$"
     ]
    },
    {
     "cell_type": "markdown",
     "metadata": {},
     "source": [
      "## Relation between $R^2$ and $r$ (the corrrelation)"
     ]
    },
    {
     "cell_type": "markdown",
     "metadata": {},
     "source": [
      "Recall that $(\\hat Y_i - \\bar Y) = \\hat \\beta_1 (X_i - \\bar X)$ so that \n",
      "\n",
      "$$ R^2 = \\frac{\\sum_{i=1}^n (\\hat Y_i - \\bar Y)^2}{\\sum_{i=1}^n (Y_i - \\bar Y)^2} = \\hat \\beta_1^2 \\frac{\\sum_{i=1}^n(X_i - \\bar X)^2}{\\sum_{i=1}^n (Y_i - \\bar Y)^2} = Cor(Y, X)^2 $$ Since, recall, $$ \\hat \\beta_1 = Cor(Y, X)\\frac{Sd(Y)}{Sd(X)} $$ So, $R^2$ is literally $r$ squared."
     ]
    },
    {
     "cell_type": "markdown",
     "metadata": {},
     "source": [
      "## The pit and pratfalls of solely relying on $R^2$\n",
      "Taken from [here](http://matplotlib.org/examples/pylab_examples/anscombe.html)"
     ]
    },
    {
     "cell_type": "code",
     "collapsed": false,
     "input": [
      "from __future__ import print_function\n",
      "\"\"\"\n",
      "Edward Tufte uses this example from Anscombe to show 4 datasets of x\n",
      "and y that have the same mean, standard deviation, and regression\n",
      "line, but which are qualitatively different.\n",
      "\n",
      "matplotlib fun for a rainy day\n",
      "\"\"\"\n",
      "\n",
      "from pylab import *\n",
      "\n",
      "x =  array([10, 8, 13, 9, 11, 14, 6, 4, 12, 7, 5])\n",
      "y1 = array([8.04, 6.95, 7.58, 8.81, 8.33, 9.96, 7.24, 4.26, 10.84, 4.82, 5.68])\n",
      "y2 = array([9.14, 8.14, 8.74, 8.77, 9.26, 8.10, 6.13, 3.10, 9.13, 7.26, 4.74])\n",
      "y3 = array([7.46, 6.77, 12.74, 7.11, 7.81, 8.84, 6.08, 5.39, 8.15, 6.42, 5.73])\n",
      "x4 = array([8,8,8,8,8,8,8,19,8,8,8])\n",
      "y4 = array([6.58,5.76,7.71,8.84,8.47,7.04,5.25,12.50,5.56,7.91,6.89])\n",
      "\n",
      "def fit(x):\n",
      "    return 3+0.5*x\n",
      "\n",
      "\n",
      "\n",
      "xfit = array( [amin(x), amax(x) ] )\n",
      "\n",
      "subplot(221)\n",
      "plot(x,y1,'ks', xfit, fit(xfit), 'r-', lw=2)\n",
      "axis([2,20,2,14])\n",
      "setp(gca(), xticklabels=[], yticks=(4,8,12), xticks=(0,10,20))\n",
      "text(3,12, 'I', fontsize=20)\n",
      "\n",
      "subplot(222)\n",
      "plot(x,y2,'ks', xfit, fit(xfit), 'r-', lw=2)\n",
      "axis([2,20,2,14])\n",
      "setp(gca(), xticklabels=[], yticks=(4,8,12), yticklabels=[], xticks=(0,10,20))\n",
      "text(3,12, 'II', fontsize=20)\n",
      "\n",
      "subplot(223)\n",
      "plot(x,y3,'ks', xfit, fit(xfit), 'r-', lw=2)\n",
      "axis([2,20,2,14])\n",
      "text(3,12, 'III', fontsize=20)\n",
      "setp(gca(), yticks=(4,8,12), xticks=(0,10,20))\n",
      "\n",
      "subplot(224)\n",
      "\n",
      "xfit = array([amin(x4),amax(x4)])\n",
      "plot(x4,y4,'ks', xfit, fit(xfit), 'r-', lw=2)\n",
      "axis([2,20,2,14])\n",
      "setp(gca(), yticklabels=[], yticks=(4,8,12), xticks=(0,10,20))\n",
      "text(3,12, 'IV', fontsize=20)\n",
      "\n",
      "#verify the stats\n",
      "pairs = (x,y1), (x,y2), (x,y3), (x4,y4)\n",
      "for x,y in pairs:\n",
      "    print ('mean=%1.2f, std=%1.2f, r=%1.2f'%(mean(y), std(y), corrcoef(x,y)[0][1]))\n",
      "\n",
      "show()\n",
      " "
     ],
     "language": "python",
     "metadata": {},
     "outputs": []
    },
    {
     "cell_type": "markdown",
     "metadata": {},
     "source": [
      "<a id='inferenceinregression'></a>\n",
      "\n",
      "## Inference in Regression"
     ]
    },
    {
     "cell_type": "markdown",
     "metadata": {},
     "source": [
      "Consider the model $$ Y_i = \\beta_0 + \\beta_1 X_i + \\epsilon_i $$\n",
      "\n",
      "$\\epsilon \\sim N(0, \\sigma^2)$.\n",
      "\n",
      "We assume that the true model is known.\n",
      "\n",
      "$\\hat \\beta_0 = \\bar Y - \\hat \\beta_1 \\bar X $\n",
      "\n",
      "$\\hat \\beta_1 = Cor(X, Y) \\cdot \\dfrac{Sd(Y)}{Sd(X)} $\n",
      "\n",
      "---\n",
      "\n",
      "Not sure if this last equation should be $\\beta_1$ or $\\hat \\beta_1$\n",
      "\n",
      "$\\hat \\beta_1= \\dfrac{\\sum(X_i - \\bar X)(Y_i - \\bar Y)}{\\sum(X_i - \\bar X)^2}$"
     ]
    },
    {
     "cell_type": "markdown",
     "metadata": {},
     "source": [
      "<a id='testsforregressioncoefficients'></a>\n",
      "## Tests for Regression Coefficients"
     ]
    },
    {
     "cell_type": "markdown",
     "metadata": {},
     "source": [
      "## Review\n",
      "* Statistics like $\\frac{\\hat \\theta - \\theta}{\\hat \\sigma_{\\hat \\theta}}$ often have the following properties.\n",
      "    1. Is normally distributed and has a finite sample Student's T distribution if the estimated variance is replaced with a sample estimate (under normality assumptions).\n",
      "    3. Can be used to test $H_0 : \\theta = \\theta_0$ versus $H_a : \\theta >, <, \\neq \\theta_0$.\n",
      "    4. Can be used to create a confidence interval for $\\theta$ via $\\hat \\theta \\pm Q_{1-\\alpha/2} \\hat \\sigma_{\\hat \\theta}$\n",
      "    where $Q_{1-\\alpha/2}$ is the relevant quantile from either a normal or T distribution.\n",
      "* In the case of regression with iid sampling assumptions and normal errors, our inferences will follow\n",
      "very similarily to what you saw in your inference class.\n",
      "* We won't cover asymptotics for regression analysis, but suffice it to say that under assumptions \n",
      "on the ways in which the $X$ values are collected, the iid sampling model, and mean model, \n",
      "the normal results hold to create intervals and confidence intervals\n"
     ]
    },
    {
     "cell_type": "markdown",
     "metadata": {},
     "source": [
      "## Standard errors (conditioned on X)\n",
      "$$\n",
      "\\begin{align}\n",
      "Var(\\hat \\beta_1) & =\n",
      "Var\\left(\\frac{\\sum_{i=1}^n (Y_i - \\bar Y) (X_i - \\bar X)}{\\sum_{i=1}^n (X_i - \\bar X)^2}\\right) \\\\\n",
      "& = \\frac{Var\\left(\\sum_{i=1}^n Y_i (X_i - \\bar X) \\right) }{\\left(\\sum_{i=1}^n (X_i - \\bar X)^2 \\right)^2} \\\\\n",
      "& = \\frac{\\sum_{i=1}^n \\sigma^2(X_i - \\bar X)^2}{\\left(\\sum_{i=1}^n (X_i - \\bar X)^2 \\right)^2} \\\\\n",
      "& = \\frac{\\sigma^2}{\\sum_{i=1}^n (X_i - \\bar X)^2} \\\\\n",
      "\\end{align}\n",
      "$$"
     ]
    },
    {
     "cell_type": "markdown",
     "metadata": {},
     "source": [
      "## Results\n",
      "* $\\sigma_{\\hat \\beta_1}^2 = Var(\\hat \\beta_1) = \\sigma^2 / \\sum_{i=1}^n (X_i - \\bar X)^2$\n",
      "* $\\sigma_{\\hat \\beta_0}^2 = Var(\\hat \\beta_0)  = \\left(\\frac{1}{n} + \\frac{\\bar X^2}{\\sum_{i=1}^n (X_i - \\bar X)^2 }\\right)\\sigma^2$\n",
      "* In practice, $\\sigma$ is replaced by its estimate.\n",
      "* It's probably not surprising that under iid Gaussian errors\n",
      "$$\n",
      "\\frac{\\hat \\beta_j - \\beta_j}{\\hat \\sigma_{\\hat \\beta_j}}\n",
      "$$\n",
      "follows a $t$ distribution with $n-2$ degrees of freedom and a normal distribution for large $n$.\n",
      "* This can be used to create confidence intervals and perform\n",
      "hypothesis tests."
     ]
    },
    {
     "cell_type": "markdown",
     "metadata": {},
     "source": [
      "### Example\n",
      "$H_0: \\beta_n = 0$\n",
      "\n",
      "$H_a: \\beta_n \\neq 0$"
     ]
    },
    {
     "cell_type": "code",
     "collapsed": false,
     "input": [
      "%%R -o diamond\n",
      "library(UsingR); data(diamond)\n",
      "y <- diamond$price; x <- diamond$carat; n <- length(y)\n",
      "beta1 <- cor(y, x) * sd(y) / sd(x)\n",
      "beta0 <- mean(y) - beta1 * mean(x)\n",
      "e <- y - beta0 - beta1 * x\n",
      "sigma <- sqrt(sum(e^2) / (n-2)) \n",
      "ssx <- sum((x - mean(x))^2)\n",
      "seBeta0 <- (1 / n + mean(x) ^ 2 / ssx) ^ .5 * sigma \n",
      "seBeta1 <- sigma / sqrt(ssx)\n",
      "tBeta0 <- beta0 / seBeta0; \n",
      "tBeta1 <- beta1 / seBeta1\n",
      "pBeta0 <- 2 * pt(abs(tBeta0), df = n - 2, lower.tail = FALSE)\n",
      "pBeta1 <- 2 * pt(abs(tBeta1), df = n - 2, lower.tail = FALSE)\n",
      "coefTable <- rbind(c(beta0, seBeta0, tBeta0, pBeta0), c(beta1, seBeta1, tBeta1, pBeta1))\n",
      "colnames(coefTable) <- c(\"Estimate\", \"Std. Error\", \"t value\", \"P(>|t|)\")\n",
      "rownames(coefTable) <- c(\"(Intercept)\", \"x\")\n",
      "coefTable"
     ],
     "language": "python",
     "metadata": {},
     "outputs": []
    },
    {
     "cell_type": "code",
     "collapsed": false,
     "input": [
      "st.t.pdf(abs(1), df = n - 2)"
     ],
     "language": "python",
     "metadata": {},
     "outputs": [
      {
       "ename": "NameError",
       "evalue": "name 'n' is not defined",
       "output_type": "pyerr",
       "traceback": [
        "\u001b[0;31m---------------------------------------------------------------------------\u001b[0m\n\u001b[0;31mNameError\u001b[0m                                 Traceback (most recent call last)",
        "\u001b[0;32m<ipython-input-6-20d224ee19ce>\u001b[0m in \u001b[0;36m<module>\u001b[0;34m()\u001b[0m\n\u001b[0;32m----> 1\u001b[0;31m \u001b[0mst\u001b[0m\u001b[0;34m.\u001b[0m\u001b[0mt\u001b[0m\u001b[0;34m.\u001b[0m\u001b[0mpdf\u001b[0m\u001b[0;34m(\u001b[0m\u001b[0mabs\u001b[0m\u001b[0;34m(\u001b[0m\u001b[0;36m1\u001b[0m\u001b[0;34m)\u001b[0m\u001b[0;34m,\u001b[0m \u001b[0mdf\u001b[0m \u001b[0;34m=\u001b[0m \u001b[0mn\u001b[0m \u001b[0;34m-\u001b[0m \u001b[0;36m2\u001b[0m\u001b[0;34m)\u001b[0m\u001b[0;34m\u001b[0m\u001b[0m\n\u001b[0m",
        "\u001b[0;31mNameError\u001b[0m: name 'n' is not defined"
       ]
      }
     ],
     "prompt_number": 6
    },
    {
     "cell_type": "code",
     "collapsed": false,
     "input": [
      "x = diamond['carat']\n",
      "y = diamond['price']\n",
      "n = float(len(y))\n",
      "beta1 = y.corr(x) * y.std() / x.std() # regression slope\n",
      "beta0 = y.mean() - beta1 * x.mean()   # regression intercept\n",
      "e = y - (beta1 * x + beta0) # errors\n",
      "sigma = ((e**2).sum()/(n - 2))**0.5 # unbiased residual mean \n",
      "ssx = ((x - x.mean())**2).sum() # sum of squared Xs\n",
      "seBeta0 = (1/n + x.mean()**2 / ssx)**0.5 * sigma\n",
      "seBeta1 = sigma / ssx**0.5\n",
      "tBeta0 = beta0 / seBeta0\n",
      "tBeta1 = beta1 / seBeta1\n",
      "# TODO: review hypothesis testing\n",
      "pBeta0 = 2 * (1-st.t.cdf(abs(tBeta0), df = n - 2))\n",
      "pBeta1 = 2 * (1-st.t.cdf(abs(tBeta1), df = n - 2))\n",
      "l = [[beta0, seBeta0, tBeta0, pBeta0], \n",
      "     [beta1, seBeta1, tBeta1, pBeta1]]\n",
      "coefTable = pd.DataFrame((_ for _ in l), \n",
      "                         columns = [\"Estimate\", \"Std. Error\", \"t value\", \"P(>|t|)\"],\n",
      "                         index = [\"(Intercept)\", \"x\"])\n",
      "\n",
      "coefTable"
     ],
     "language": "python",
     "metadata": {},
     "outputs": []
    },
    {
     "cell_type": "code",
     "collapsed": false,
     "input": [
      "fit = sm.ols(\"price ~ carat\", data=diamond).fit()\n",
      "fit.summary()"
     ],
     "language": "python",
     "metadata": {},
     "outputs": []
    },
    {
     "cell_type": "code",
     "collapsed": false,
     "input": [
      "%%R\n",
      "data(diamond)\n",
      "fit <- lm(\"price ~ carat\", data=diamond)\n",
      "summary(fit)"
     ],
     "language": "python",
     "metadata": {},
     "outputs": []
    },
    {
     "cell_type": "markdown",
     "metadata": {},
     "source": [
      "---\n",
      "### Interlude to find Python equivalant of R's:"
     ]
    },
    {
     "cell_type": "markdown",
     "metadata": {},
     "source": [
      "```pt(abs(tBeta1), df = n - 2, lower.tail = FALSE)```"
     ]
    },
    {
     "cell_type": "code",
     "collapsed": false,
     "input": [
      "import scipy.stats as st"
     ],
     "language": "python",
     "metadata": {},
     "outputs": [],
     "prompt_number": 2
    },
    {
     "cell_type": "code",
     "collapsed": false,
     "input": [
      "print '\\n'.join(st.t.pdf.__doc__.split('\\n')[:100])"
     ],
     "language": "python",
     "metadata": {},
     "outputs": [
      {
       "output_type": "stream",
       "stream": "stdout",
       "text": [
        "\n",
        "        Probability density function at x of the given RV.\n",
        "\n",
        "        Parameters\n",
        "        ----------\n",
        "        x : array_like\n",
        "            quantiles\n",
        "        arg1, arg2, arg3,... : array_like\n",
        "            The shape parameter(s) for the distribution (see docstring of the\n",
        "            instance object for more information)\n",
        "        loc : array_like, optional\n",
        "            location parameter (default=0)\n",
        "        scale : array_like, optional\n",
        "            scale parameter (default=1)\n",
        "\n",
        "        Returns\n",
        "        -------\n",
        "        pdf : ndarray\n",
        "            Probability density function evaluated at x\n",
        "\n",
        "        \n"
       ]
      }
     ],
     "prompt_number": 3
    },
    {
     "cell_type": "code",
     "collapsed": false,
     "input": [
      "import numpy as np\n",
      "x = np.arange(-3, 3, .01)\n",
      "ypdf = [st.t.pdf(_, n - 2) for _ in x]"
     ],
     "language": "python",
     "metadata": {},
     "outputs": [
      {
       "ename": "NameError",
       "evalue": "name 'n' is not defined",
       "output_type": "pyerr",
       "traceback": [
        "\u001b[0;31m---------------------------------------------------------------------------\u001b[0m\n\u001b[0;31mNameError\u001b[0m                                 Traceback (most recent call last)",
        "\u001b[0;32m<ipython-input-4-650701145a51>\u001b[0m in \u001b[0;36m<module>\u001b[0;34m()\u001b[0m\n\u001b[1;32m      1\u001b[0m \u001b[0;32mimport\u001b[0m \u001b[0mnumpy\u001b[0m \u001b[0;32mas\u001b[0m \u001b[0mnp\u001b[0m\u001b[0;34m\u001b[0m\u001b[0m\n\u001b[1;32m      2\u001b[0m \u001b[0mx\u001b[0m \u001b[0;34m=\u001b[0m \u001b[0mnp\u001b[0m\u001b[0;34m.\u001b[0m\u001b[0marange\u001b[0m\u001b[0;34m(\u001b[0m\u001b[0;34m-\u001b[0m\u001b[0;36m3\u001b[0m\u001b[0;34m,\u001b[0m \u001b[0;36m3\u001b[0m\u001b[0;34m,\u001b[0m \u001b[0;36m.01\u001b[0m\u001b[0;34m)\u001b[0m\u001b[0;34m\u001b[0m\u001b[0m\n\u001b[0;32m----> 3\u001b[0;31m \u001b[0mypdf\u001b[0m \u001b[0;34m=\u001b[0m \u001b[0;34m[\u001b[0m\u001b[0mst\u001b[0m\u001b[0;34m.\u001b[0m\u001b[0mt\u001b[0m\u001b[0;34m.\u001b[0m\u001b[0mpdf\u001b[0m\u001b[0;34m(\u001b[0m\u001b[0m_\u001b[0m\u001b[0;34m,\u001b[0m \u001b[0mn\u001b[0m \u001b[0;34m-\u001b[0m \u001b[0;36m2\u001b[0m\u001b[0;34m)\u001b[0m \u001b[0;32mfor\u001b[0m \u001b[0m_\u001b[0m \u001b[0;32min\u001b[0m \u001b[0mx\u001b[0m\u001b[0;34m]\u001b[0m\u001b[0;34m\u001b[0m\u001b[0m\n\u001b[0m",
        "\u001b[0;31mNameError\u001b[0m: name 'n' is not defined"
       ]
      }
     ],
     "prompt_number": 4
    },
    {
     "cell_type": "code",
     "collapsed": false,
     "input": [
      "ycdf = [1 - st.t.cdf(_, n - 2) for _ in x]"
     ],
     "language": "python",
     "metadata": {},
     "outputs": [
      {
       "ename": "NameError",
       "evalue": "name 'n' is not defined",
       "output_type": "pyerr",
       "traceback": [
        "\u001b[0;31m---------------------------------------------------------------------------\u001b[0m\n\u001b[0;31mNameError\u001b[0m                                 Traceback (most recent call last)",
        "\u001b[0;32m<ipython-input-5-4ad6815f6998>\u001b[0m in \u001b[0;36m<module>\u001b[0;34m()\u001b[0m\n\u001b[0;32m----> 1\u001b[0;31m \u001b[0mycdf\u001b[0m \u001b[0;34m=\u001b[0m \u001b[0;34m[\u001b[0m\u001b[0;36m1\u001b[0m \u001b[0;34m-\u001b[0m \u001b[0mst\u001b[0m\u001b[0;34m.\u001b[0m\u001b[0mt\u001b[0m\u001b[0;34m.\u001b[0m\u001b[0mcdf\u001b[0m\u001b[0;34m(\u001b[0m\u001b[0m_\u001b[0m\u001b[0;34m,\u001b[0m \u001b[0mn\u001b[0m \u001b[0;34m-\u001b[0m \u001b[0;36m2\u001b[0m\u001b[0;34m)\u001b[0m \u001b[0;32mfor\u001b[0m \u001b[0m_\u001b[0m \u001b[0;32min\u001b[0m \u001b[0mx\u001b[0m\u001b[0;34m]\u001b[0m\u001b[0;34m\u001b[0m\u001b[0m\n\u001b[0m",
        "\u001b[0;31mNameError\u001b[0m: name 'n' is not defined"
       ]
      }
     ],
     "prompt_number": 5
    },
    {
     "cell_type": "code",
     "collapsed": false,
     "input": [
      "f, axarr = plt.subplots(2, sharex=True)\n",
      "axarr[0].plot(x, ypdf)\n",
      "axarr[0].set_title('PDF')\n",
      "axarr[1].plot(x, ycdf)\n",
      "axarr[1].set_title('CDF')"
     ],
     "language": "python",
     "metadata": {},
     "outputs": []
    },
    {
     "cell_type": "code",
     "collapsed": false,
     "input": [
      "%%R -o dfR\n",
      "# test to figure out wtf the pt function is doing\n",
      "require(ggplot2)\n",
      "n <- 48\n",
      "x <- seq(-3, 3, by=.01)\n",
      "y <- pt(x, df = n - 2, lower.tail = FALSE)\n",
      "df1 <- data.frame(x, y, 'false')\n",
      "names(df1) <- c('x', 'y', 'tail')\n",
      "\n",
      "y <- pt(x, df = n - 2, lower.tail = TRUE)\n",
      "df2 <- data.frame(x, y, 'true')\n",
      "names(df2) <- c('x', 'y', 'tail')\n",
      "dfR <- rbind(df1, df2)\n",
      "ggplot(dfR, aes(x, y, colour=tail)) + geom_line() + theme_bw() + ggtitle(\"Effect of lower.tail parameter in `pt` function\")"
     ],
     "language": "python",
     "metadata": {},
     "outputs": []
    },
    {
     "cell_type": "markdown",
     "metadata": {},
     "source": [
      "So the ```pt``` function creates a cdf"
     ]
    },
    {
     "cell_type": "code",
     "collapsed": false,
     "input": [
      "dfR = dfR[dfR['tail'] == 'false']"
     ],
     "language": "python",
     "metadata": {},
     "outputs": []
    },
    {
     "cell_type": "code",
     "collapsed": false,
     "input": [
      "f, axarr = plt.subplots(2, sharex=True)\n",
      "axarr[0].plot(dfR['x'], dfR['y'])\n",
      "axarr[0].set_title('R CDF')\n",
      "axarr[1].plot(x, ycdf)\n",
      "axarr[1].set_title('Python CDF')"
     ],
     "language": "python",
     "metadata": {},
     "outputs": []
    },
    {
     "cell_type": "markdown",
     "metadata": {},
     "source": [
      "### End Interlude\n",
      "---"
     ]
    },
    {
     "cell_type": "markdown",
     "metadata": {},
     "source": [
      "### Getting a confidence interval"
     ]
    },
    {
     "cell_type": "code",
     "collapsed": false,
     "input": [
      "%%R\n",
      "sumCoef <- summary(fit)$coefficients\n",
      "sumCoef[1,1] + c(-1, 1) * qt(.975, df = fit$df) * sumCoef[1, 2]"
     ],
     "language": "python",
     "metadata": {},
     "outputs": []
    },
    {
     "cell_type": "code",
     "collapsed": false,
     "input": [
      "%%R\n",
      "sumCoef[2,1] + c(-1, 1) * qt(.975, df = fit$df) * sumCoef[2, 2]"
     ],
     "language": "python",
     "metadata": {},
     "outputs": []
    },
    {
     "cell_type": "code",
     "collapsed": false,
     "input": [
      "fit.conf_int()"
     ],
     "language": "python",
     "metadata": {},
     "outputs": []
    },
    {
     "cell_type": "code",
     "collapsed": false,
     "input": [
      "coefTable"
     ],
     "language": "python",
     "metadata": {},
     "outputs": []
    },
    {
     "cell_type": "code",
     "collapsed": false,
     "input": [
      "st.t.pdf(.975, 46)"
     ],
     "language": "python",
     "metadata": {},
     "outputs": []
    },
    {
     "cell_type": "code",
     "collapsed": false,
     "input": [
      "%%R\n",
      "x <- seq(0, 1, .001)\n",
      "y <- qt(x, df = 30)\n",
      "plot(x, y)"
     ],
     "language": "python",
     "metadata": {},
     "outputs": []
    },
    {
     "cell_type": "code",
     "collapsed": false,
     "input": [
      "x = np.arange(0, 1, .001)\n",
      "y = st.t.pdf(x, 30)\n",
      "plt.plot(x, y)"
     ],
     "language": "python",
     "metadata": {},
     "outputs": []
    },
    {
     "cell_type": "code",
     "collapsed": false,
     "input": [
      "print st.t.pdf.__doc__"
     ],
     "language": "python",
     "metadata": {},
     "outputs": [
      {
       "ename": "NameError",
       "evalue": "name 'st' is not defined",
       "output_type": "pyerr",
       "traceback": [
        "\u001b[0;31m---------------------------------------------------------------------------\u001b[0m\n\u001b[0;31mNameError\u001b[0m                                 Traceback (most recent call last)",
        "\u001b[0;32m<ipython-input-1-f7d494785ae2>\u001b[0m in \u001b[0;36m<module>\u001b[0;34m()\u001b[0m\n\u001b[0;32m----> 1\u001b[0;31m \u001b[0;32mprint\u001b[0m \u001b[0mst\u001b[0m\u001b[0;34m.\u001b[0m\u001b[0mt\u001b[0m\u001b[0;34m.\u001b[0m\u001b[0mpdf\u001b[0m\u001b[0;34m.\u001b[0m\u001b[0m__doc__\u001b[0m\u001b[0;34m\u001b[0m\u001b[0m\n\u001b[0m",
        "\u001b[0;31mNameError\u001b[0m: name 'st' is not defined"
       ]
      }
     ],
     "prompt_number": 1
    },
    {
     "cell_type": "code",
     "collapsed": false,
     "input": [],
     "language": "python",
     "metadata": {},
     "outputs": []
    }
   ],
   "metadata": {}
  }
 ]
}