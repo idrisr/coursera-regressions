{
 "metadata": {
  "name": "",
  "signature": "sha256:8d5167101467c9ab36673e3b1119c4c9e313d1530c54a8fc4e20c993bde64870"
 },
 "nbformat": 3,
 "nbformat_minor": 0,
 "worksheets": [
  {
   "cells": [
    {
     "cell_type": "markdown",
     "metadata": {},
     "source": [
      "* [Definition of Terms](#termdef)\n",
      "* [Week 1](#week1)\n",
      "* [Week 2](#week2)"
     ]
    },
    {
     "cell_type": "markdown",
     "metadata": {},
     "source": [
      "<a id='termdef'></a>\n",
      "# Term Definitions\n",
      "TODO: Complete\n",
      "\n",
      "$\\hat Y$ : Predicted $Y$"
     ]
    },
    {
     "cell_type": "markdown",
     "metadata": {},
     "source": [
      "<a id='week1'></a>\n",
      "# Coursera Regressions Week 1"
     ]
    },
    {
     "cell_type": "markdown",
     "metadata": {},
     "source": [
      "# Least Squares"
     ]
    },
    {
     "cell_type": "code",
     "collapsed": false,
     "input": [
      "import pandas as pd\n",
      "import matplotlib.pyplot as plt\n",
      "import rpy2\n",
      "%load_ext rpy2.ipython\n",
      "%matplotlib inline"
     ],
     "language": "python",
     "metadata": {},
     "outputs": [
      {
       "output_type": "stream",
       "stream": "stdout",
       "text": [
        "The rpy2.ipython extension is already loaded. To reload it, use:\n",
        "  %reload_ext rpy2.ipython\n"
       ]
      }
     ],
     "prompt_number": 23
    },
    {
     "cell_type": "code",
     "collapsed": false,
     "input": [
      "heig = pd.DataFrame.from_csv('data/Galton.csv', index_col=None)\n",
      "heig = pd.melt(heig, value_vars = ['child', 'parent'], value_name = 'height')"
     ],
     "language": "python",
     "metadata": {},
     "outputs": [],
     "prompt_number": 24
    },
    {
     "cell_type": "code",
     "collapsed": false,
     "input": [
      "heig.head()\n",
      "heig.describe()"
     ],
     "language": "python",
     "metadata": {},
     "outputs": [
      {
       "html": [
        "<div style=\"max-height:1000px;max-width:1500px;overflow:auto;\">\n",
        "<table border=\"1\" class=\"dataframe\">\n",
        "  <thead>\n",
        "    <tr style=\"text-align: right;\">\n",
        "      <th></th>\n",
        "      <th>height</th>\n",
        "    </tr>\n",
        "  </thead>\n",
        "  <tbody>\n",
        "    <tr>\n",
        "      <th>count</th>\n",
        "      <td> 1856.000000</td>\n",
        "    </tr>\n",
        "    <tr>\n",
        "      <th>mean</th>\n",
        "      <td>   68.198330</td>\n",
        "    </tr>\n",
        "    <tr>\n",
        "      <th>std</th>\n",
        "      <td>    2.185589</td>\n",
        "    </tr>\n",
        "    <tr>\n",
        "      <th>min</th>\n",
        "      <td>   61.700000</td>\n",
        "    </tr>\n",
        "    <tr>\n",
        "      <th>25%</th>\n",
        "      <td>   67.200000</td>\n",
        "    </tr>\n",
        "    <tr>\n",
        "      <th>50%</th>\n",
        "      <td>   68.500000</td>\n",
        "    </tr>\n",
        "    <tr>\n",
        "      <th>75%</th>\n",
        "      <td>   69.500000</td>\n",
        "    </tr>\n",
        "    <tr>\n",
        "      <th>max</th>\n",
        "      <td>   73.700000</td>\n",
        "    </tr>\n",
        "  </tbody>\n",
        "</table>\n",
        "</div>"
       ],
       "metadata": {},
       "output_type": "pyout",
       "prompt_number": 25,
       "text": [
        "            height\n",
        "count  1856.000000\n",
        "mean     68.198330\n",
        "std       2.185589\n",
        "min      61.700000\n",
        "25%      67.200000\n",
        "50%      68.500000\n",
        "75%      69.500000\n",
        "max      73.700000"
       ]
      }
     ],
     "prompt_number": 25
    },
    {
     "cell_type": "code",
     "collapsed": false,
     "input": [
      "%%R -i heig\n",
      "require(ggplot2)\n",
      "df <- as.data.frame(height)\n",
      "g <- ggplot(heig, aes(height, fill=variable)) + geom_histogram(binwidth=1) + theme_bw()\n",
      "g <- g + facet_grid(~variable)\n",
      "g"
     ],
     "language": "python",
     "metadata": {},
     "outputs": [
      {
       "output_type": "stream",
       "stream": "stdout",
       "text": [
        "Error in as.data.frame(height) : object 'height' not found\n"
       ]
      }
     ],
     "prompt_number": 26
    },
    {
     "cell_type": "markdown",
     "metadata": {},
     "source": [
      "# Find the middle via least squares"
     ]
    },
    {
     "cell_type": "markdown",
     "metadata": {},
     "source": [
      "Let $Y_i$ be the height of child $i$ for $i = 1, ..., n = 928$ then define the middle as the value of $\\mu$ that minimizes\n",
      "\n",
      "$\\sum\\limits_{i=1}^n (Y_i - \\mu)^2$\n",
      "\n",
      "* The middle gives us the 'physical' center of mass of the graph\n",
      "* You might have guessed that the answer that minimizes the squared distance above is $\\mu = \\bar{Y}$"
     ]
    },
    {
     "cell_type": "markdown",
     "metadata": {},
     "source": [
      "# Experiment"
     ]
    },
    {
     "cell_type": "markdown",
     "metadata": {},
     "source": [
      "$\\sum\\limits_{i=1}^n (Y_i - \\mu)^2$\n"
     ]
    },
    {
     "cell_type": "markdown",
     "metadata": {},
     "source": [
      "Let's try different values of $\\mu$ to see where the minimal value is above"
     ]
    },
    {
     "cell_type": "code",
     "collapsed": false,
     "input": [
      "child = heig[heig['variable'] == 'child']"
     ],
     "language": "python",
     "metadata": {},
     "outputs": [],
     "prompt_number": 27
    },
    {
     "cell_type": "code",
     "collapsed": false,
     "input": [
      "import numpy as np\n",
      "child.head()"
     ],
     "language": "python",
     "metadata": {},
     "outputs": [
      {
       "html": [
        "<div style=\"max-height:1000px;max-width:1500px;overflow:auto;\">\n",
        "<table border=\"1\" class=\"dataframe\">\n",
        "  <thead>\n",
        "    <tr style=\"text-align: right;\">\n",
        "      <th></th>\n",
        "      <th>variable</th>\n",
        "      <th>height</th>\n",
        "    </tr>\n",
        "  </thead>\n",
        "  <tbody>\n",
        "    <tr>\n",
        "      <th>0</th>\n",
        "      <td> child</td>\n",
        "      <td> 61.7</td>\n",
        "    </tr>\n",
        "    <tr>\n",
        "      <th>1</th>\n",
        "      <td> child</td>\n",
        "      <td> 61.7</td>\n",
        "    </tr>\n",
        "    <tr>\n",
        "      <th>2</th>\n",
        "      <td> child</td>\n",
        "      <td> 61.7</td>\n",
        "    </tr>\n",
        "    <tr>\n",
        "      <th>3</th>\n",
        "      <td> child</td>\n",
        "      <td> 61.7</td>\n",
        "    </tr>\n",
        "    <tr>\n",
        "      <th>4</th>\n",
        "      <td> child</td>\n",
        "      <td> 61.7</td>\n",
        "    </tr>\n",
        "  </tbody>\n",
        "</table>\n",
        "</div>"
       ],
       "metadata": {},
       "output_type": "pyout",
       "prompt_number": 28,
       "text": [
        "  variable  height\n",
        "0    child    61.7\n",
        "1    child    61.7\n",
        "2    child    61.7\n",
        "3    child    61.7\n",
        "4    child    61.7"
       ]
      }
     ],
     "prompt_number": 28
    },
    {
     "cell_type": "code",
     "collapsed": false,
     "input": [
      "hrange = np.arange(child['height'].min(), child['height'].max(), .5)"
     ],
     "language": "python",
     "metadata": {},
     "outputs": [],
     "prompt_number": 29
    },
    {
     "cell_type": "code",
     "collapsed": false,
     "input": [
      "MSE = lambda x: ((child.height - x)**2).mean()"
     ],
     "language": "python",
     "metadata": {},
     "outputs": [],
     "prompt_number": 30
    },
    {
     "cell_type": "code",
     "collapsed": false,
     "input": [
      "MSEdf = pd.DataFrame([(_, MSE(_)) for _ in hrange], columns = ['mu', 'MSE'])"
     ],
     "language": "python",
     "metadata": {},
     "outputs": [],
     "prompt_number": 31
    },
    {
     "cell_type": "markdown",
     "metadata": {},
     "source": [
      "### Let's plot different values for $\\mu$ and see what we get"
     ]
    },
    {
     "cell_type": "code",
     "collapsed": false,
     "input": [
      "pd.DataFrame.plot(MSEdf, x = 'mu', y='MSE', title='Minimizing Mu')"
     ],
     "language": "python",
     "metadata": {},
     "outputs": [
      {
       "metadata": {},
       "output_type": "pyout",
       "prompt_number": 32,
       "text": [
        "<matplotlib.axes._subplots.AxesSubplot at 0x11108e350>"
       ]
      },
      {
       "metadata": {},
       "output_type": "display_data",
       "png": "[encoded data removed]",
       "text": [
        "<matplotlib.figure.Figure at 0x11108e850>"
       ]
      }
     ],
     "prompt_number": 32
    },
    {
     "cell_type": "code",
     "collapsed": false,
     "input": [
      "child.mean()"
     ],
     "language": "python",
     "metadata": {},
     "outputs": [
      {
       "metadata": {},
       "output_type": "pyout",
       "prompt_number": 33,
       "text": [
        "height    68.08847\n",
        "dtype: float64"
       ]
      }
     ],
     "prompt_number": 33
    },
    {
     "cell_type": "markdown",
     "metadata": {},
     "source": [
      "<img \"source=(/images/least_squares.proof.jpg\">"
     ]
    },
    {
     "cell_type": "markdown",
     "metadata": {},
     "source": [
      "<img src='images/least_squares_proof.png'>\n",
      "\n",
      "* $\\bar{Y}$ : different guesses for $\\mu$\n",
      "* $\\mu$ : value that minimizes $\\sum\\limits_{i=1}^n (Y_i - \\mu)^2$\n",
      "\n",
      "He adds and subtracts $\\bar{Y}$ and then expands and simplifies.\n",
      "\n",
      "The end result is that for any arbitrary $\\mu$, the sum will be greater than the sum when $\\bar{Y} = \\mu$"
     ]
    },
    {
     "cell_type": "markdown",
     "metadata": {},
     "source": [
      "# Comparing childrens' heights and their parents' heights"
     ]
    },
    {
     "cell_type": "code",
     "collapsed": false,
     "input": [
      "# reimport so I don't have to unmelt\n",
      "heig = pd.DataFrame.from_csv('data/Galton.csv', index_col=None)\n",
      "# get counts of values for the bubble plot\n",
      "h = pd.DataFrame({'count' : heig.groupby( [ \"child\", \"parent\"] ).size()}).reset_index()\n",
      "h[:10]"
     ],
     "language": "python",
     "metadata": {},
     "outputs": [
      {
       "html": [
        "<div style=\"max-height:1000px;max-width:1500px;overflow:auto;\">\n",
        "<table border=\"1\" class=\"dataframe\">\n",
        "  <thead>\n",
        "    <tr style=\"text-align: right;\">\n",
        "      <th></th>\n",
        "      <th>child</th>\n",
        "      <th>parent</th>\n",
        "      <th>count</th>\n",
        "    </tr>\n",
        "  </thead>\n",
        "  <tbody>\n",
        "    <tr>\n",
        "      <th>0</th>\n",
        "      <td> 61.7</td>\n",
        "      <td> 64.0</td>\n",
        "      <td> 1</td>\n",
        "    </tr>\n",
        "    <tr>\n",
        "      <th>1</th>\n",
        "      <td> 61.7</td>\n",
        "      <td> 64.5</td>\n",
        "      <td> 1</td>\n",
        "    </tr>\n",
        "    <tr>\n",
        "      <th>2</th>\n",
        "      <td> 61.7</td>\n",
        "      <td> 65.5</td>\n",
        "      <td> 1</td>\n",
        "    </tr>\n",
        "    <tr>\n",
        "      <th>3</th>\n",
        "      <td> 61.7</td>\n",
        "      <td> 68.5</td>\n",
        "      <td> 1</td>\n",
        "    </tr>\n",
        "    <tr>\n",
        "      <th>4</th>\n",
        "      <td> 61.7</td>\n",
        "      <td> 70.5</td>\n",
        "      <td> 1</td>\n",
        "    </tr>\n",
        "    <tr>\n",
        "      <th>5</th>\n",
        "      <td> 62.2</td>\n",
        "      <td> 64.5</td>\n",
        "      <td> 1</td>\n",
        "    </tr>\n",
        "    <tr>\n",
        "      <th>6</th>\n",
        "      <td> 62.2</td>\n",
        "      <td> 66.5</td>\n",
        "      <td> 3</td>\n",
        "    </tr>\n",
        "    <tr>\n",
        "      <th>7</th>\n",
        "      <td> 62.2</td>\n",
        "      <td> 67.5</td>\n",
        "      <td> 3</td>\n",
        "    </tr>\n",
        "    <tr>\n",
        "      <th>8</th>\n",
        "      <td> 63.2</td>\n",
        "      <td> 64.0</td>\n",
        "      <td> 2</td>\n",
        "    </tr>\n",
        "    <tr>\n",
        "      <th>9</th>\n",
        "      <td> 63.2</td>\n",
        "      <td> 64.5</td>\n",
        "      <td> 4</td>\n",
        "    </tr>\n",
        "  </tbody>\n",
        "</table>\n",
        "</div>"
       ],
       "metadata": {},
       "output_type": "pyout",
       "prompt_number": 34,
       "text": [
        "   child  parent  count\n",
        "0   61.7    64.0      1\n",
        "1   61.7    64.5      1\n",
        "2   61.7    65.5      1\n",
        "3   61.7    68.5      1\n",
        "4   61.7    70.5      1\n",
        "5   62.2    64.5      1\n",
        "6   62.2    66.5      3\n",
        "7   62.2    67.5      3\n",
        "8   63.2    64.0      2\n",
        "9   63.2    64.5      4"
       ]
      }
     ],
     "prompt_number": 34
    },
    {
     "cell_type": "code",
     "collapsed": false,
     "input": [
      "%%R -i h\n",
      "require(ggplot2)\n",
      "require(hexbin)\n",
      "df <- as.data.frame(h)\n",
      "g <- ggplot(df, aes(parent, child, size=count)) + geom_point() + ggtitle(\"Bubble Plot Height\")\n",
      "g + theme_bw()"
     ],
     "language": "python",
     "metadata": {},
     "outputs": [
      {
       "metadata": {},
       "output_type": "display_data",
       "text": [
        "Loading required package: hexbin\n"
       ]
      },
      {
       "metadata": {},
       "output_type": "display_data",
       "png": "[encoded data removed]"
      }
     ],
     "prompt_number": 35
    },
    {
     "cell_type": "markdown",
     "metadata": {},
     "source": [
      "## Regression through the origin"
     ]
    },
    {
     "cell_type": "markdown",
     "metadata": {},
     "source": [
      "Suppose that $X_i$ are the parent's heights"
     ]
    },
    {
     "cell_type": "markdown",
     "metadata": {},
     "source": [
      "Consider picking the slope $\\beta$ that minimizes"
     ]
    },
    {
     "cell_type": "markdown",
     "metadata": {},
     "source": [
      "$\\sum\\limits_{i=1}^n (Y_i - X_i\\beta)^2$\n",
      "\n",
      "This is using the origin as a pivot point picking the line that minimizes the sum of the squared vertical distances of the points to the line\n",
      "\n",
      "A line through the origin is:\n",
      "\n",
      "$y = x\\beta$\n",
      "\n",
      "* It has a y-intercept of 0.\n",
      "* the slope is $\\beta$\n",
      "* $x_i\\beta=\\hat{y}$ is the fitted value\n",
      "* $y_i - \\hat{y}$ is the vertical distance between the data point and the fitted line\n",
      "* is it NOT the orthoganol distance\n",
      "* we don't really want the line go through the origin\n",
      "* if we subtract the means so that the origin is the mean of the parents' and child's heights, then going through the origin makes sense\n",
      "* the origin is the average of both variables\n",
      "\n",
      "\n",
      "\n",
      "* $\\mu$: population mean\n",
      "* $\\bar X$: sample mean\n",
      "* $\\sigma$: population standard deviation\n",
      "* $s$: sample standard deviation"
     ]
    },
    {
     "cell_type": "code",
     "collapsed": false,
     "input": [
      "col = 'child'\n",
      "h[col] = h[col] - h[col].mean()\n",
      "col = 'parent'\n",
      "h[col] = h[col] - h[col].mean()"
     ],
     "language": "python",
     "metadata": {},
     "outputs": [],
     "prompt_number": 36
    },
    {
     "cell_type": "code",
     "collapsed": false,
     "input": [
      "%%R -i h\n",
      "require(ggplot2)\n",
      "require(hexbin)\n",
      "df <- as.data.frame(h)\n",
      "g <- ggplot(df, aes(parent, child, size=count)) + geom_point() + ggtitle(\"Bubble Plot Height De-meaned\") + theme_bw()\n",
      "g2 <- geom_smooth(data=df, aes(parent, child, weight=count), colour='red', method=lm, se=FALSE)\n",
      "g3 <- geom_smooth(data=df, aes(parent, child), colour='green', method=lm, se=FALSE)\n",
      "g4 <- geom_smooth(data=df, aes(parent, child), colour='blue', method=loess, se=FALSE)\n",
      "g + g2 + g3 + g4 + theme(legend.position=\"none\")"
     ],
     "language": "python",
     "metadata": {},
     "outputs": [
      {
       "metadata": {},
       "output_type": "display_data",
       "png": "[encoded data removed]"
      }
     ],
     "prompt_number": 37
    },
    {
     "cell_type": "markdown",
     "metadata": {},
     "source": [
      "Note the difference in the linear fit when the size of the dots is considered.\n",
      "* red = size considered\n",
      "* green = size not considered\n",
      "* blue = loess"
     ]
    },
    {
     "cell_type": "markdown",
     "metadata": {},
     "source": [
      "### Find the best $\\beta$"
     ]
    },
    {
     "cell_type": "markdown",
     "metadata": {},
     "source": [
      "find:\n",
      "\n",
      "$\\min\\sum\\limits_{i=1}^n (Y_i - X_i\\beta)^2$\n"
     ]
    },
    {
     "cell_type": "code",
     "collapsed": false,
     "input": [
      "col = 'child'\n",
      "heig[col] = heig[col] - heig[col].mean()\n",
      "col = 'parent'\n",
      "heig[col] = heig[col] - heig[col].mean()"
     ],
     "language": "python",
     "metadata": {},
     "outputs": [],
     "prompt_number": 38
    },
    {
     "cell_type": "code",
     "collapsed": false,
     "input": [
      "MSE = lambda beta: ((heig['child'] - heig['parent'] * beta)**2).mean()"
     ],
     "language": "python",
     "metadata": {},
     "outputs": [],
     "prompt_number": 39
    },
    {
     "cell_type": "code",
     "collapsed": false,
     "input": [
      "# try slopes between -3 and 3\n",
      "betas = np.arange(-3, 3, .01)"
     ],
     "language": "python",
     "metadata": {},
     "outputs": [],
     "prompt_number": 40
    },
    {
     "cell_type": "code",
     "collapsed": false,
     "input": [
      "df = pd.DataFrame([(beta, MSE(beta),) for beta in betas], columns = ['beta', 'MSE'])"
     ],
     "language": "python",
     "metadata": {},
     "outputs": [],
     "prompt_number": 41
    },
    {
     "cell_type": "code",
     "collapsed": false,
     "input": [
      "df.plot(x = 'beta', y='MSE', title = 'finding the best Beta')"
     ],
     "language": "python",
     "metadata": {},
     "outputs": [
      {
       "metadata": {},
       "output_type": "pyout",
       "prompt_number": 42,
       "text": [
        "<matplotlib.axes._subplots.AxesSubplot at 0x11107a610>"
       ]
      },
      {
       "metadata": {},
       "output_type": "display_data",
       "png": "[encoded data removed]",
       "text": [
        "<matplotlib.figure.Figure at 0x11053ecd0>"
       ]
      }
     ],
     "prompt_number": 42
    },
    {
     "cell_type": "code",
     "collapsed": false,
     "input": [
      "min_beta = float(df[df['MSE']==df['MSE'].min()]['beta'])\n",
      "df[df['MSE']==df['MSE'].min()]"
     ],
     "language": "python",
     "metadata": {},
     "outputs": [
      {
       "html": [
        "<div style=\"max-height:1000px;max-width:1500px;overflow:auto;\">\n",
        "<table border=\"1\" class=\"dataframe\">\n",
        "  <thead>\n",
        "    <tr style=\"text-align: right;\">\n",
        "      <th></th>\n",
        "      <th>beta</th>\n",
        "      <th>MSE</th>\n",
        "    </tr>\n",
        "  </thead>\n",
        "  <tbody>\n",
        "    <tr>\n",
        "      <th>365</th>\n",
        "      <td> 0.65</td>\n",
        "      <td> 5.000338</td>\n",
        "    </tr>\n",
        "  </tbody>\n",
        "</table>\n",
        "</div>"
       ],
       "metadata": {},
       "output_type": "pyout",
       "prompt_number": 43,
       "text": [
        "     beta       MSE\n",
        "365  0.65  5.000338"
       ]
      }
     ],
     "prompt_number": 43
    },
    {
     "cell_type": "code",
     "collapsed": false,
     "input": [
      "float(min_beta)"
     ],
     "language": "python",
     "metadata": {},
     "outputs": [
      {
       "metadata": {},
       "output_type": "pyout",
       "prompt_number": 44,
       "text": [
        "0.6499999999999222"
       ]
      }
     ],
     "prompt_number": 44
    },
    {
     "cell_type": "markdown",
     "metadata": {},
     "source": [
      "## Lets create the linear regression and see if we get the same answer"
     ]
    },
    {
     "cell_type": "markdown",
     "metadata": {},
     "source": [
      "### Using scipy"
     ]
    },
    {
     "cell_type": "code",
     "collapsed": false,
     "input": [
      "from scipy.stats import linregress"
     ],
     "language": "python",
     "metadata": {},
     "outputs": [],
     "prompt_number": 45
    },
    {
     "cell_type": "code",
     "collapsed": false,
     "input": [
      "slope, intercept, rvalue, pvalue, stderr = linregress(heig['parent'], heig['child'])"
     ],
     "language": "python",
     "metadata": {},
     "outputs": [],
     "prompt_number": 46
    },
    {
     "cell_type": "code",
     "collapsed": false,
     "input": [
      "slope"
     ],
     "language": "python",
     "metadata": {},
     "outputs": [
      {
       "metadata": {},
       "output_type": "pyout",
       "prompt_number": 47,
       "text": [
        "0.64629058199363942"
       ]
      }
     ],
     "prompt_number": 47
    },
    {
     "cell_type": "code",
     "collapsed": false,
     "input": [
      "MSE(slope)"
     ],
     "language": "python",
     "metadata": {},
     "outputs": [
      {
       "metadata": {},
       "output_type": "pyout",
       "prompt_number": 48,
       "text": [
        "5.0002937655516639"
       ]
      }
     ],
     "prompt_number": 48
    },
    {
     "cell_type": "markdown",
     "metadata": {},
     "source": [
      "### Using StatsModels"
     ]
    },
    {
     "cell_type": "code",
     "collapsed": false,
     "input": [
      "import statsmodels.formula.api as sm"
     ],
     "language": "python",
     "metadata": {},
     "outputs": [],
     "prompt_number": 49
    },
    {
     "cell_type": "code",
     "collapsed": false,
     "input": [
      "result = sm.ols(formula=\"child ~ parent\", data=heig).fit()"
     ],
     "language": "python",
     "metadata": {},
     "outputs": [],
     "prompt_number": 50
    },
    {
     "cell_type": "code",
     "collapsed": false,
     "input": [
      "result.summary()"
     ],
     "language": "python",
     "metadata": {},
     "outputs": [
      {
       "html": [
        "<table class=\"simpletable\">\n",
        "<caption>OLS Regression Results</caption>\n",
        "<tr>\n",
        "  <th>Dep. Variable:</th>          <td>child</td>      <th>  R-squared:         </th> <td>   0.210</td>\n",
        "</tr>\n",
        "<tr>\n",
        "  <th>Model:</th>                   <td>OLS</td>       <th>  Adj. R-squared:    </th> <td>   0.210</td>\n",
        "</tr>\n",
        "<tr>\n",
        "  <th>Method:</th>             <td>Least Squares</td>  <th>  F-statistic:       </th> <td>   246.8</td>\n",
        "</tr>\n",
        "<tr>\n",
        "  <th>Date:</th>             <td>Thu, 11 Sep 2014</td> <th>  Prob (F-statistic):</th> <td>1.73e-49</td>\n",
        "</tr>\n",
        "<tr>\n",
        "  <th>Time:</th>                 <td>13:49:59</td>     <th>  Log-Likelihood:    </th> <td> -2063.6</td>\n",
        "</tr>\n",
        "<tr>\n",
        "  <th>No. Observations:</th>      <td>   928</td>      <th>  AIC:               </th> <td>   4131.</td>\n",
        "</tr>\n",
        "<tr>\n",
        "  <th>Df Residuals:</th>          <td>   926</td>      <th>  BIC:               </th> <td>   4141.</td>\n",
        "</tr>\n",
        "<tr>\n",
        "  <th>Df Model:</th>              <td>     1</td>      <th>                     </th>     <td> </td>   \n",
        "</tr>\n",
        "</table>\n",
        "<table class=\"simpletable\">\n",
        "<tr>\n",
        "      <td></td>         <th>coef</th>     <th>std err</th>      <th>t</th>      <th>P>|t|</th> <th>[95.0% Conf. Int.]</th> \n",
        "</tr>\n",
        "<tr>\n",
        "  <th>Intercept</th> <td>-1.493e-14</td> <td>    0.073</td> <td>-2.03e-13</td> <td> 1.000</td> <td>   -0.144     0.144</td>\n",
        "</tr>\n",
        "<tr>\n",
        "  <th>parent</th>    <td>    0.6463</td> <td>    0.041</td> <td>   15.711</td> <td> 0.000</td> <td>    0.566     0.727</td>\n",
        "</tr>\n",
        "</table>\n",
        "<table class=\"simpletable\">\n",
        "<tr>\n",
        "  <th>Omnibus:</th>       <td>11.057</td> <th>  Durbin-Watson:     </th> <td>   0.046</td>\n",
        "</tr>\n",
        "<tr>\n",
        "  <th>Prob(Omnibus):</th> <td> 0.004</td> <th>  Jarque-Bera (JB):  </th> <td>  10.944</td>\n",
        "</tr>\n",
        "<tr>\n",
        "  <th>Skew:</th>          <td>-0.241</td> <th>  Prob(JB):          </th> <td> 0.00420</td>\n",
        "</tr>\n",
        "<tr>\n",
        "  <th>Kurtosis:</th>      <td> 2.775</td> <th>  Cond. No.          </th> <td>    1.79</td>\n",
        "</tr>\n",
        "</table>"
       ],
       "metadata": {},
       "output_type": "pyout",
       "prompt_number": 51,
       "text": [
        "<class 'statsmodels.iolib.summary.Summary'>\n",
        "\"\"\"\n",
        "                            OLS Regression Results                            \n",
        "==============================================================================\n",
        "Dep. Variable:                  child   R-squared:                       0.210\n",
        "Model:                            OLS   Adj. R-squared:                  0.210\n",
        "Method:                 Least Squares   F-statistic:                     246.8\n",
        "Date:                Thu, 11 Sep 2014   Prob (F-statistic):           1.73e-49\n",
        "Time:                        13:49:59   Log-Likelihood:                -2063.6\n",
        "No. Observations:                 928   AIC:                             4131.\n",
        "Df Residuals:                     926   BIC:                             4141.\n",
        "Df Model:                           1                                         \n",
        "==============================================================================\n",
        "                 coef    std err          t      P>|t|      [95.0% Conf. Int.]\n",
        "------------------------------------------------------------------------------\n",
        "Intercept  -1.493e-14      0.073  -2.03e-13      1.000        -0.144     0.144\n",
        "parent         0.6463      0.041     15.711      0.000         0.566     0.727\n",
        "==============================================================================\n",
        "Omnibus:                       11.057   Durbin-Watson:                   0.046\n",
        "Prob(Omnibus):                  0.004   Jarque-Bera (JB):               10.944\n",
        "Skew:                          -0.241   Prob(JB):                      0.00420\n",
        "Kurtosis:                       2.775   Cond. No.                         1.79\n",
        "==============================================================================\n",
        "\"\"\""
       ]
      }
     ],
     "prompt_number": 51
    },
    {
     "cell_type": "markdown",
     "metadata": {},
     "source": [
      "# Some Basic Notation and Background"
     ]
    },
    {
     "cell_type": "markdown",
     "metadata": {},
     "source": [
      "We write $X_1, X_2, ... X_n$ to describe $n$ data points"
     ]
    },
    {
     "cell_type": "markdown",
     "metadata": {},
     "source": [
      "* Uppercase $X$ for a random variable\n",
      "* lowercase $x$ for a particular value\n",
      "* greek letters for things we don't know"
     ]
    },
    {
     "cell_type": "markdown",
     "metadata": {},
     "source": [
      "Empirical Mean\n",
      "\n",
      "$\\hat{X} = \\dfrac{1}{n}\\sum\\limits_{i=1}^n X_i$"
     ]
    },
    {
     "cell_type": "markdown",
     "metadata": {},
     "source": [
      "If we subtract the mean from all data points, we get data that has a mean of 0.\n",
      "\n",
      "$\\hat{X_i} = X_i - \\hat{X} = 0$"
     ]
    },
    {
     "cell_type": "markdown",
     "metadata": {},
     "source": [
      "Remember the mean is the least squares solution for minimizing:\n",
      "    \n",
      "$\\sum\\limits_{i=1}^n (X_i - \\mu)^2$\n",
      "\n",
      "    "
     ]
    },
    {
     "cell_type": "markdown",
     "metadata": {},
     "source": [
      "# The empirical standard deviation and variance"
     ]
    },
    {
     "cell_type": "markdown",
     "metadata": {},
     "source": [
      "$\\text{Variance: } s^2 = \\dfrac{1}{n-1}\\sum\\limits_{i = 1}^n {\\left( {X_i - \\bar X} \\right)^2 } $"
     ]
    },
    {
     "cell_type": "markdown",
     "metadata": {},
     "source": [
      "# Normalization\n",
      "\n",
      "$Z_i = \\dfrac{X_i - \\bar x}{s}$\n",
      "\n",
      "* Normalizing gives an empiricial mean of zero and a empirical standard deviation of 0\n",
      "* Its units are described in standard deviations from the mean\n",
      "* A z value of 2 means the normalized observation is 2 standard deviations from the mean"
     ]
    },
    {
     "cell_type": "markdown",
     "metadata": {},
     "source": [
      "# The empirical covariance"
     ]
    },
    {
     "cell_type": "markdown",
     "metadata": {},
     "source": [
      "is ..\n",
      "\n",
      "$Cov(X, Y) = \\dfrac{1}{n-1}\\sum\\limits_{i=1}^n(X_i - \\hat X)(Y_i - \\hat Y) = \\dfrac{1}{n-1}\\left(\\sum\\limits_{i=1}^nX_iY_i - n\\hat X\\hat Y\\right)$\n",
      "\n",
      "* think of covariance as a function that takes two vectors as an input\n",
      "* has the units of X and Y"
     ]
    },
    {
     "cell_type": "markdown",
     "metadata": {},
     "source": [
      "## Correlation is:"
     ]
    },
    {
     "cell_type": "markdown",
     "metadata": {},
     "source": [
      "$ Cor(X, Y) = \\dfrac{Cov(X, Y)}{S_xS_y}$"
     ]
    },
    {
     "cell_type": "markdown",
     "metadata": {},
     "source": [
      "Where\n",
      "\n",
      "* $S_x$ is the estimate of the standard deviation for the $X$ observations\n",
      "* $S_y$ is the estimate of the standard deviation for the $Y$ observations\n",
      "* Unit free, between -1 and 1"
     ]
    },
    {
     "cell_type": "markdown",
     "metadata": {},
     "source": [
      "$Cor(X, Y) = \\pm 1$ only when the $X$ or $Y$ observations fall perfectly on a posivite or negative sloped line"
     ]
    },
    {
     "cell_type": "markdown",
     "metadata": {},
     "source": [
      "$Cor(X, Y) = 0$ implies no linear relationship"
     ]
    },
    {
     "cell_type": "markdown",
     "metadata": {},
     "source": [
      "# Least squares estimation of regression lines"
     ]
    },
    {
     "cell_type": "markdown",
     "metadata": {},
     "source": [
      "* Let $Y_i$ be the $i^{th}$ child's height\n",
      "* Let $X_i$ be the $i^{th}$ parents' average height\n",
      "\n",
      "Consider finding the best line\n",
      "\n",
      "Child's Height = $\\beta_0$ + Parent's Height $\\cdot \\beta_1$\n",
      "\n",
      "Use least squares\n",
      "\n",
      "$\n",
      "\\sum\\limits_{i=1}^n\\big\\{Y_i - \\left(\\beta_0 + \\beta_1X_i\\right)\\big\\}^2 \n",
      "$ - the difference between the actual and the predicted\n",
      "\n",
      "\n",
      "Oh how the fuck how do we do it?"
     ]
    },
    {
     "cell_type": "markdown",
     "metadata": {},
     "source": [
      "# Mean only regression"
     ]
    },
    {
     "cell_type": "markdown",
     "metadata": {},
     "source": [
      "So after a lot of stuff...\n",
      "\n",
      "$\n",
      "\\hat\\beta_1 = \\dfrac{\\sum\\limits_{i=1}^n Y_iX_i}{\\sum\\limits_{i=1}^nX_i^2}\n",
      "$\n",
      "\n",
      "When we restrict the line through the origin"
     ]
    },
    {
     "cell_type": "markdown",
     "metadata": {},
     "source": [
      "# Figuring out the final forms we can use to get $\\beta_n$"
     ]
    },
    {
     "cell_type": "markdown",
     "metadata": {},
     "source": [
      "... lots of math... which can be summarized as\n",
      "\n",
      "$\\hat \\beta_1 = Cor(Y, X) \\dfrac{S_dY}{S_dX}$\n",
      "\n",
      "also states as\n",
      "\n",
      "$\\dfrac{\\sum(X-\\bar X) \\sum (Y - \\bar Y)}{\\sum(X - \\bar X)^2}$\n",
      "\n",
      "and \n",
      "\n",
      "$\\hat \\beta_0 = \\bar Y - \\hat \\beta_1 \\bar X$\n",
      "\n",
      "And our regression line always travels through $(\\bar X, \\bar Y)$"
     ]
    },
    {
     "cell_type": "code",
     "collapsed": false,
     "input": [
      "heig = pd.DataFrame.from_csv('data/Galton.csv', index_col=None)"
     ],
     "language": "python",
     "metadata": {},
     "outputs": [],
     "prompt_number": 52
    },
    {
     "cell_type": "code",
     "collapsed": false,
     "input": [
      "y = 'child'\n",
      "x = 'parent'\n",
      "\n",
      "beta1 = heig[y].corr(heig[x]) * heig[y].std() / heig[x].std()"
     ],
     "language": "python",
     "metadata": {},
     "outputs": [],
     "prompt_number": 53
    },
    {
     "cell_type": "code",
     "collapsed": false,
     "input": [
      "beta0 = heig[y].mean() - beta1 * heig[x].mean()\n",
      "beta0"
     ],
     "language": "python",
     "metadata": {},
     "outputs": [
      {
       "metadata": {},
       "output_type": "pyout",
       "prompt_number": 54,
       "text": [
        "23.941530180421658"
       ]
      }
     ],
     "prompt_number": 54
    },
    {
     "cell_type": "code",
     "collapsed": false,
     "input": [
      "beta1"
     ],
     "language": "python",
     "metadata": {},
     "outputs": [
      {
       "metadata": {},
       "output_type": "pyout",
       "prompt_number": 55,
       "text": [
        "0.64629058199351186"
       ]
      }
     ],
     "prompt_number": 55
    },
    {
     "cell_type": "code",
     "collapsed": false,
     "input": [
      "result = sm.ols(formula=\"child ~ parent\", data=heig).fit()"
     ],
     "language": "python",
     "metadata": {},
     "outputs": [],
     "prompt_number": 56
    },
    {
     "cell_type": "code",
     "collapsed": false,
     "input": [
      "result.params"
     ],
     "language": "python",
     "metadata": {},
     "outputs": [
      {
       "metadata": {},
       "output_type": "pyout",
       "prompt_number": 57,
       "text": [
        "Intercept    23.941530\n",
        "parent        0.646291\n",
        "dtype: float64"
       ]
      }
     ],
     "prompt_number": 57
    },
    {
     "cell_type": "markdown",
     "metadata": {},
     "source": [
      "# Regression to the Mean"
     ]
    },
    {
     "cell_type": "markdown",
     "metadata": {},
     "source": [
      "$P(Y < x| X=x)$ gets bigger as $x$ heads to very large values\n",
      "\n",
      "$P(Y > x| X=x)$ gets bigger as $x$ heads to very small values"
     ]
    },
    {
     "cell_type": "markdown",
     "metadata": {},
     "source": [
      "# Quiz"
     ]
    },
    {
     "cell_type": "markdown",
     "metadata": {},
     "source": [
      "### q1"
     ]
    },
    {
     "cell_type": "code",
     "collapsed": false,
     "input": [
      "# q1 - what's a better way to do this?\n",
      "x = [0.18, -1.54, 0.42, 0.95]\n",
      "w = [2, 1, 3, 1]"
     ],
     "language": "python",
     "metadata": {},
     "outputs": [],
     "prompt_number": 58
    },
    {
     "cell_type": "markdown",
     "metadata": {},
     "source": [
      "Give the value of $\\mu$ that minimizes $\\sum\\limits_{i=1}^nw_i(x_i - \\mu)^2$"
     ]
    },
    {
     "cell_type": "code",
     "collapsed": false,
     "input": [
      "df = pd.DataFrame([x, w]).T\n",
      "df.columns = ['x', 'w']\n",
      "df"
     ],
     "language": "python",
     "metadata": {},
     "outputs": [
      {
       "html": [
        "<div style=\"max-height:1000px;max-width:1500px;overflow:auto;\">\n",
        "<table border=\"1\" class=\"dataframe\">\n",
        "  <thead>\n",
        "    <tr style=\"text-align: right;\">\n",
        "      <th></th>\n",
        "      <th>x</th>\n",
        "      <th>w</th>\n",
        "    </tr>\n",
        "  </thead>\n",
        "  <tbody>\n",
        "    <tr>\n",
        "      <th>0</th>\n",
        "      <td> 0.18</td>\n",
        "      <td> 2</td>\n",
        "    </tr>\n",
        "    <tr>\n",
        "      <th>1</th>\n",
        "      <td>-1.54</td>\n",
        "      <td> 1</td>\n",
        "    </tr>\n",
        "    <tr>\n",
        "      <th>2</th>\n",
        "      <td> 0.42</td>\n",
        "      <td> 3</td>\n",
        "    </tr>\n",
        "    <tr>\n",
        "      <th>3</th>\n",
        "      <td> 0.95</td>\n",
        "      <td> 1</td>\n",
        "    </tr>\n",
        "  </tbody>\n",
        "</table>\n",
        "</div>"
       ],
       "metadata": {},
       "output_type": "pyout",
       "prompt_number": 59,
       "text": [
        "      x  w\n",
        "0  0.18  2\n",
        "1 -1.54  1\n",
        "2  0.42  3\n",
        "3  0.95  1"
       ]
      }
     ],
     "prompt_number": 59
    },
    {
     "cell_type": "code",
     "collapsed": false,
     "input": [
      "square = lambda x: x**2\n",
      "f1 = lambda mu: (df['w'] * (df['x'] - mu).apply(square)).sum()"
     ],
     "language": "python",
     "metadata": {},
     "outputs": [],
     "prompt_number": 60
    },
    {
     "cell_type": "code",
     "collapsed": false,
     "input": [
      "mus = np.arange(0, 1, .00001)\n",
      "f1(.18)"
     ],
     "language": "python",
     "metadata": {},
     "outputs": [
      {
       "metadata": {},
       "output_type": "pyout",
       "prompt_number": 61,
       "text": [
        "3.7241"
       ]
      }
     ],
     "prompt_number": 61
    },
    {
     "cell_type": "code",
     "collapsed": false,
     "input": [
      "mus = pd.DataFrame([(mu, f1(mu),) for mu in mus], columns = ['mu', 'fx'])"
     ],
     "language": "python",
     "metadata": {},
     "outputs": [],
     "prompt_number": 62
    },
    {
     "cell_type": "code",
     "collapsed": false,
     "input": [
      "pd.DataFrame.plot(mus, x = 'mu', y='fx', title='Minimizing Mu')"
     ],
     "language": "python",
     "metadata": {},
     "outputs": [
      {
       "metadata": {},
       "output_type": "pyout",
       "prompt_number": 63,
       "text": [
        "<matplotlib.axes._subplots.AxesSubplot at 0x118108e10>"
       ]
      },
      {
       "metadata": {},
       "output_type": "display_data",
       "png": "[encoded data removed]",
       "text": [
        "<matplotlib.figure.Figure at 0x118108090>"
       ]
      }
     ],
     "prompt_number": 63
    },
    {
     "cell_type": "code",
     "collapsed": false,
     "input": [
      "mus[mus['fx']==mus['fx'].min()]"
     ],
     "language": "python",
     "metadata": {},
     "outputs": [
      {
       "html": [
        "<div style=\"max-height:1000px;max-width:1500px;overflow:auto;\">\n",
        "<table border=\"1\" class=\"dataframe\">\n",
        "  <thead>\n",
        "    <tr style=\"text-align: right;\">\n",
        "      <th></th>\n",
        "      <th>mu</th>\n",
        "      <th>fx</th>\n",
        "    </tr>\n",
        "  </thead>\n",
        "  <tbody>\n",
        "    <tr>\n",
        "      <th>14714</th>\n",
        "      <td> 0.14714</td>\n",
        "      <td> 3.716543</td>\n",
        "    </tr>\n",
        "  </tbody>\n",
        "</table>\n",
        "</div>"
       ],
       "metadata": {},
       "output_type": "pyout",
       "prompt_number": 64,
       "text": [
        "            mu        fx\n",
        "14714  0.14714  3.716543"
       ]
      }
     ],
     "prompt_number": 64
    },
    {
     "cell_type": "code",
     "collapsed": false,
     "input": [
      "# q2\n",
      "x = [0.8, 0.47, 0.51, 0.73, 0.36, 0.58, 0.57, 0.85, 0.44, 0.42]\n",
      "y = [1.39, 0.72, 1.55, 0.48, 1.19, -1.59, 1.23, -0.65, 1.49, 0.05]\n",
      "df = pd.DataFrame([x, y]).T\n",
      "df.columns = ['x', 'y']"
     ],
     "language": "python",
     "metadata": {},
     "outputs": [],
     "prompt_number": 65
    },
    {
     "cell_type": "code",
     "collapsed": false,
     "input": [
      "#result = sm.ols(formula=\"child ~ parent\", data=heig).fit()\n",
      "result = sm.ols(formula=\"y ~ x - 1\", data=df).fit()"
     ],
     "language": "python",
     "metadata": {},
     "outputs": [],
     "prompt_number": 66
    },
    {
     "cell_type": "code",
     "collapsed": false,
     "input": [
      "result.summary()"
     ],
     "language": "python",
     "metadata": {},
     "outputs": [
      {
       "output_type": "stream",
       "stream": "stderr",
       "text": [
        "/Users/idris/.virtualenvs/regres/lib/python2.7/site-packages/scipy/stats/stats.py:1205: UserWarning: kurtosistest only valid for n>=20 ... continuing anyway, n=10\n",
        "  int(n))\n"
       ]
      },
      {
       "html": [
        "<table class=\"simpletable\">\n",
        "<caption>OLS Regression Results</caption>\n",
        "<tr>\n",
        "  <th>Dep. Variable:</th>            <td>y</td>        <th>  R-squared:         </th> <td>   0.183</td>\n",
        "</tr>\n",
        "<tr>\n",
        "  <th>Model:</th>                   <td>OLS</td>       <th>  Adj. R-squared:    </th> <td>   0.092</td>\n",
        "</tr>\n",
        "<tr>\n",
        "  <th>Method:</th>             <td>Least Squares</td>  <th>  F-statistic:       </th> <td>   2.018</td>\n",
        "</tr>\n",
        "<tr>\n",
        "  <th>Date:</th>             <td>Thu, 11 Sep 2014</td> <th>  Prob (F-statistic):</th>  <td> 0.189</td> \n",
        "</tr>\n",
        "<tr>\n",
        "  <th>Time:</th>                 <td>13:50:26</td>     <th>  Log-Likelihood:    </th> <td> -14.561</td>\n",
        "</tr>\n",
        "<tr>\n",
        "  <th>No. Observations:</th>      <td>    10</td>      <th>  AIC:               </th> <td>   31.12</td>\n",
        "</tr>\n",
        "<tr>\n",
        "  <th>Df Residuals:</th>          <td>     9</td>      <th>  BIC:               </th> <td>   31.42</td>\n",
        "</tr>\n",
        "<tr>\n",
        "  <th>Df Model:</th>              <td>     1</td>      <th>                     </th>     <td> </td>   \n",
        "</tr>\n",
        "</table>\n",
        "<table class=\"simpletable\">\n",
        "<tr>\n",
        "  <td></td>     <th>coef</th>     <th>std err</th>      <th>t</th>      <th>P>|t|</th> <th>[95.0% Conf. Int.]</th> \n",
        "</tr>\n",
        "<tr>\n",
        "  <th>x</th> <td>    0.8263</td> <td>    0.582</td> <td>    1.421</td> <td> 0.189</td> <td>   -0.490     2.142</td>\n",
        "</tr>\n",
        "</table>\n",
        "<table class=\"simpletable\">\n",
        "<tr>\n",
        "  <th>Omnibus:</th>       <td> 2.980</td> <th>  Durbin-Watson:     </th> <td>   3.044</td>\n",
        "</tr>\n",
        "<tr>\n",
        "  <th>Prob(Omnibus):</th> <td> 0.225</td> <th>  Jarque-Bera (JB):  </th> <td>   1.581</td>\n",
        "</tr>\n",
        "<tr>\n",
        "  <th>Skew:</th>          <td>-0.959</td> <th>  Prob(JB):          </th> <td>   0.454</td>\n",
        "</tr>\n",
        "<tr>\n",
        "  <th>Kurtosis:</th>      <td> 2.658</td> <th>  Cond. No.          </th> <td>    1.00</td>\n",
        "</tr>\n",
        "</table>"
       ],
       "metadata": {},
       "output_type": "pyout",
       "prompt_number": 67,
       "text": [
        "<class 'statsmodels.iolib.summary.Summary'>\n",
        "\"\"\"\n",
        "                            OLS Regression Results                            \n",
        "==============================================================================\n",
        "Dep. Variable:                      y   R-squared:                       0.183\n",
        "Model:                            OLS   Adj. R-squared:                  0.092\n",
        "Method:                 Least Squares   F-statistic:                     2.018\n",
        "Date:                Thu, 11 Sep 2014   Prob (F-statistic):              0.189\n",
        "Time:                        13:50:26   Log-Likelihood:                -14.561\n",
        "No. Observations:                  10   AIC:                             31.12\n",
        "Df Residuals:                       9   BIC:                             31.42\n",
        "Df Model:                           1                                         \n",
        "==============================================================================\n",
        "                 coef    std err          t      P>|t|      [95.0% Conf. Int.]\n",
        "------------------------------------------------------------------------------\n",
        "x              0.8263      0.582      1.421      0.189        -0.490     2.142\n",
        "==============================================================================\n",
        "Omnibus:                        2.980   Durbin-Watson:                   3.044\n",
        "Prob(Omnibus):                  0.225   Jarque-Bera (JB):                1.581\n",
        "Skew:                          -0.959   Prob(JB):                        0.454\n",
        "Kurtosis:                       2.658   Cond. No.                         1.00\n",
        "==============================================================================\n",
        "\"\"\""
       ]
      }
     ],
     "prompt_number": 67
    },
    {
     "cell_type": "markdown",
     "metadata": {},
     "source": [
      "## So that's the code way to do it. Let's do it symbolically too.\n",
      "\n",
      "$\\beta_1 = \\dfrac{\\sum(X_i - \\bar X)(Y_i - \\bar Y)}{\\sum(X_i - \\bar X)^2}$\n",
      "\n",
      "wait... that's close.\n",
      "\n",
      "But for a RTO (\"regression through origin\")\n",
      "\n",
      "$\\beta_1 = \\dfrac{\\sum X_iY_i}{\\sum X_i^2}$"
     ]
    },
    {
     "cell_type": "code",
     "collapsed": false,
     "input": [
      "x = 'x'\n",
      "y = 'y'\n",
      "num = (df[x] * df[y]).sum()\n",
      "den = (df[x]).apply(square).sum()"
     ],
     "language": "python",
     "metadata": {},
     "outputs": [],
     "prompt_number": 68
    },
    {
     "cell_type": "code",
     "collapsed": false,
     "input": [
      "num / den"
     ],
     "language": "python",
     "metadata": {},
     "outputs": [
      {
       "metadata": {},
       "output_type": "pyout",
       "prompt_number": 69,
       "text": [
        "0.82625166087128599"
       ]
      }
     ],
     "prompt_number": 69
    },
    {
     "cell_type": "markdown",
     "metadata": {},
     "source": [
      "### q3"
     ]
    },
    {
     "cell_type": "code",
     "collapsed": false,
     "input": [
      "%%R -i x\n",
      "require(dataset)\n",
      "data(mtcars)\n",
      "head(mtcars)\n",
      "lm(mpg~wt, data=mtcars)"
     ],
     "language": "python",
     "metadata": {},
     "outputs": [
      {
       "metadata": {},
       "output_type": "display_data",
       "text": [
        "Loading required package: dataset\n",
        "\n",
        "Call:\n",
        "lm(formula = mpg ~ wt, data = mtcars)\n",
        "\n",
        "Coefficients:\n",
        "(Intercept)           wt  \n",
        "     37.285       -5.344  \n",
        "\n"
       ]
      }
     ],
     "prompt_number": 70
    },
    {
     "cell_type": "markdown",
     "metadata": {},
     "source": [
      "## q4 \n",
      "\n",
      "Consider data with an outcome (Y) and a predictor (X). The standard deviation of the predictor is one half that of the outcome. The correlation between the two variables is .5. What value would the slope coefficient for the regression model with Y as the outcome and X as the predictor?\n",
      "\n",
      "* $Cor(X, Y) = \\frac{1}{2}$\n",
      "* $2 \\cdot S_d(X) = S_d(Y)$\n",
      "* $\\hat \\beta_1 = Cor(Y, X) \\dfrac{S_dY}{S_dX}$\n",
      "* $\\hat \\beta_1 = \\frac{1}{2} \\dfrac{2S_dx}{S_dX} = \\frac{1}{2}\\cdot\\frac{2}{1}$\n"
     ]
    },
    {
     "cell_type": "markdown",
     "metadata": {},
     "source": [
      "### q5"
     ]
    },
    {
     "cell_type": "markdown",
     "metadata": {},
     "source": [
      "Students were given two hard tests and scores were normalized to have empirical mean 0 and variance 1. The correlation between the scores on the two tests was 0.4. What would be the expected score on Quiz 2 for a student who had a normalized score of 1.5 on Quiz 1?"
     ]
    },
    {
     "cell_type": "markdown",
     "metadata": {},
     "source": [
      "$Cor(q1, q2) = 0.4 $\n",
      "\n",
      "$ Z_{q1} = 1.5 $"
     ]
    },
    {
     "cell_type": "code",
     "collapsed": false,
     "input": [
      "1.5 *0.4 #???"
     ],
     "language": "python",
     "metadata": {},
     "outputs": [
      {
       "metadata": {},
       "output_type": "pyout",
       "prompt_number": 71,
       "text": [
        "0.6000000000000001"
       ]
      }
     ],
     "prompt_number": 71
    },
    {
     "cell_type": "markdown",
     "metadata": {},
     "source": [
      "### q6"
     ]
    },
    {
     "cell_type": "code",
     "collapsed": false,
     "input": [
      "x = [8.58, 10.46, 9.01, 9.64, 8.86]\n",
      "s = pd.Series(x)"
     ],
     "language": "python",
     "metadata": {},
     "outputs": [],
     "prompt_number": 72
    },
    {
     "cell_type": "code",
     "collapsed": false,
     "input": [
      "(s - s.mean())/s.std()"
     ],
     "language": "python",
     "metadata": {},
     "outputs": [
      {
       "metadata": {},
       "output_type": "pyout",
       "prompt_number": 73,
       "text": [
        "0   -0.971866\n",
        "1    1.531022\n",
        "2   -0.399397\n",
        "3    0.439337\n",
        "4   -0.599095\n",
        "dtype: float64"
       ]
      }
     ],
     "prompt_number": 73
    },
    {
     "cell_type": "code",
     "collapsed": false,
     "input": [
      "s.mean()"
     ],
     "language": "python",
     "metadata": {},
     "outputs": [
      {
       "metadata": {},
       "output_type": "pyout",
       "prompt_number": 74,
       "text": [
        "9.3099999999999987"
       ]
      }
     ],
     "prompt_number": 74
    },
    {
     "cell_type": "markdown",
     "metadata": {},
     "source": [
      "### q7"
     ]
    },
    {
     "cell_type": "code",
     "collapsed": false,
     "input": [
      "df"
     ],
     "language": "python",
     "metadata": {},
     "outputs": [
      {
       "html": [
        "<div style=\"max-height:1000px;max-width:1500px;overflow:auto;\">\n",
        "<table border=\"1\" class=\"dataframe\">\n",
        "  <thead>\n",
        "    <tr style=\"text-align: right;\">\n",
        "      <th></th>\n",
        "      <th>x</th>\n",
        "      <th>y</th>\n",
        "    </tr>\n",
        "  </thead>\n",
        "  <tbody>\n",
        "    <tr>\n",
        "      <th>0</th>\n",
        "      <td> 0.80</td>\n",
        "      <td> 1.39</td>\n",
        "    </tr>\n",
        "    <tr>\n",
        "      <th>1</th>\n",
        "      <td> 0.47</td>\n",
        "      <td> 0.72</td>\n",
        "    </tr>\n",
        "    <tr>\n",
        "      <th>2</th>\n",
        "      <td> 0.51</td>\n",
        "      <td> 1.55</td>\n",
        "    </tr>\n",
        "    <tr>\n",
        "      <th>3</th>\n",
        "      <td> 0.73</td>\n",
        "      <td> 0.48</td>\n",
        "    </tr>\n",
        "    <tr>\n",
        "      <th>4</th>\n",
        "      <td> 0.36</td>\n",
        "      <td> 1.19</td>\n",
        "    </tr>\n",
        "    <tr>\n",
        "      <th>5</th>\n",
        "      <td> 0.58</td>\n",
        "      <td>-1.59</td>\n",
        "    </tr>\n",
        "    <tr>\n",
        "      <th>6</th>\n",
        "      <td> 0.57</td>\n",
        "      <td> 1.23</td>\n",
        "    </tr>\n",
        "    <tr>\n",
        "      <th>7</th>\n",
        "      <td> 0.85</td>\n",
        "      <td>-0.65</td>\n",
        "    </tr>\n",
        "    <tr>\n",
        "      <th>8</th>\n",
        "      <td> 0.44</td>\n",
        "      <td> 1.49</td>\n",
        "    </tr>\n",
        "    <tr>\n",
        "      <th>9</th>\n",
        "      <td> 0.42</td>\n",
        "      <td> 0.05</td>\n",
        "    </tr>\n",
        "  </tbody>\n",
        "</table>\n",
        "</div>"
       ],
       "metadata": {},
       "output_type": "pyout",
       "prompt_number": 75,
       "text": [
        "      x     y\n",
        "0  0.80  1.39\n",
        "1  0.47  0.72\n",
        "2  0.51  1.55\n",
        "3  0.73  0.48\n",
        "4  0.36  1.19\n",
        "5  0.58 -1.59\n",
        "6  0.57  1.23\n",
        "7  0.85 -0.65\n",
        "8  0.44  1.49\n",
        "9  0.42  0.05"
       ]
      }
     ],
     "prompt_number": 75
    },
    {
     "cell_type": "code",
     "collapsed": false,
     "input": [
      "result = sm.ols(\"y ~ x\", data=df).fit()"
     ],
     "language": "python",
     "metadata": {},
     "outputs": [],
     "prompt_number": 76
    },
    {
     "cell_type": "code",
     "collapsed": false,
     "input": [
      "result.summary()"
     ],
     "language": "python",
     "metadata": {},
     "outputs": [
      {
       "html": [
        "<table class=\"simpletable\">\n",
        "<caption>OLS Regression Results</caption>\n",
        "<tr>\n",
        "  <th>Dep. Variable:</th>            <td>y</td>        <th>  R-squared:         </th> <td>   0.076</td>\n",
        "</tr>\n",
        "<tr>\n",
        "  <th>Model:</th>                   <td>OLS</td>       <th>  Adj. R-squared:    </th> <td>  -0.039</td>\n",
        "</tr>\n",
        "<tr>\n",
        "  <th>Method:</th>             <td>Least Squares</td>  <th>  F-statistic:       </th> <td>  0.6620</td>\n",
        "</tr>\n",
        "<tr>\n",
        "  <th>Date:</th>             <td>Thu, 11 Sep 2014</td> <th>  Prob (F-statistic):</th>  <td> 0.439</td> \n",
        "</tr>\n",
        "<tr>\n",
        "  <th>Time:</th>                 <td>13:50:27</td>     <th>  Log-Likelihood:    </th> <td> -13.666</td>\n",
        "</tr>\n",
        "<tr>\n",
        "  <th>No. Observations:</th>      <td>    10</td>      <th>  AIC:               </th> <td>   31.33</td>\n",
        "</tr>\n",
        "<tr>\n",
        "  <th>Df Residuals:</th>          <td>     8</td>      <th>  BIC:               </th> <td>   31.94</td>\n",
        "</tr>\n",
        "<tr>\n",
        "  <th>Df Model:</th>              <td>     1</td>      <th>                     </th>     <td> </td>   \n",
        "</tr>\n",
        "</table>\n",
        "<table class=\"simpletable\">\n",
        "<tr>\n",
        "      <td></td>         <th>coef</th>     <th>std err</th>      <th>t</th>      <th>P>|t|</th> <th>[95.0% Conf. Int.]</th> \n",
        "</tr>\n",
        "<tr>\n",
        "  <th>Intercept</th> <td>    1.5675</td> <td>    1.252</td> <td>    1.252</td> <td> 0.246</td> <td>   -1.320     4.455</td>\n",
        "</tr>\n",
        "<tr>\n",
        "  <th>x</th>         <td>   -1.7128</td> <td>    2.105</td> <td>   -0.814</td> <td> 0.439</td> <td>   -6.568     3.142</td>\n",
        "</tr>\n",
        "</table>\n",
        "<table class=\"simpletable\">\n",
        "<tr>\n",
        "  <th>Omnibus:</th>       <td> 3.809</td> <th>  Durbin-Watson:     </th> <td>   2.515</td>\n",
        "</tr>\n",
        "<tr>\n",
        "  <th>Prob(Omnibus):</th> <td> 0.149</td> <th>  Jarque-Bera (JB):  </th> <td>   1.534</td>\n",
        "</tr>\n",
        "<tr>\n",
        "  <th>Skew:</th>          <td>-0.956</td> <th>  Prob(JB):          </th> <td>   0.464</td>\n",
        "</tr>\n",
        "<tr>\n",
        "  <th>Kurtosis:</th>      <td> 3.158</td> <th>  Cond. No.          </th> <td>    8.37</td>\n",
        "</tr>\n",
        "</table>"
       ],
       "metadata": {},
       "output_type": "pyout",
       "prompt_number": 77,
       "text": [
        "<class 'statsmodels.iolib.summary.Summary'>\n",
        "\"\"\"\n",
        "                            OLS Regression Results                            \n",
        "==============================================================================\n",
        "Dep. Variable:                      y   R-squared:                       0.076\n",
        "Model:                            OLS   Adj. R-squared:                 -0.039\n",
        "Method:                 Least Squares   F-statistic:                    0.6620\n",
        "Date:                Thu, 11 Sep 2014   Prob (F-statistic):              0.439\n",
        "Time:                        13:50:27   Log-Likelihood:                -13.666\n",
        "No. Observations:                  10   AIC:                             31.33\n",
        "Df Residuals:                       8   BIC:                             31.94\n",
        "Df Model:                           1                                         \n",
        "==============================================================================\n",
        "                 coef    std err          t      P>|t|      [95.0% Conf. Int.]\n",
        "------------------------------------------------------------------------------\n",
        "Intercept      1.5675      1.252      1.252      0.246        -1.320     4.455\n",
        "x             -1.7128      2.105     -0.814      0.439        -6.568     3.142\n",
        "==============================================================================\n",
        "Omnibus:                        3.809   Durbin-Watson:                   2.515\n",
        "Prob(Omnibus):                  0.149   Jarque-Bera (JB):                1.534\n",
        "Skew:                          -0.956   Prob(JB):                        0.464\n",
        "Kurtosis:                       3.158   Cond. No.                         8.37\n",
        "==============================================================================\n",
        "\"\"\""
       ]
      }
     ],
     "prompt_number": 77
    },
    {
     "cell_type": "markdown",
     "metadata": {},
     "source": [
      "### q9"
     ]
    },
    {
     "cell_type": "markdown",
     "metadata": {},
     "source": [
      "What value minimizes the sum of the squared distances between these points and itself?"
     ]
    },
    {
     "cell_type": "code",
     "collapsed": false,
     "input": [
      "df['x'].mean()"
     ],
     "language": "python",
     "metadata": {},
     "outputs": [
      {
       "metadata": {},
       "output_type": "pyout",
       "prompt_number": 78,
       "text": [
        "0.57299999999999995"
       ]
      }
     ],
     "prompt_number": 78
    },
    {
     "cell_type": "markdown",
     "metadata": {},
     "source": [
      "### q10"
     ]
    },
    {
     "cell_type": "markdown",
     "metadata": {},
     "source": [
      "Consider taking the slope having fit Y as the outcome and X as the predictor, \u03b21 and the slope from fitting X as the outcome and Y as the predictor, \u03b31, and dividing the two as \u03b21/\u03b31. What is this ratio always equal to"
     ]
    },
    {
     "cell_type": "code",
     "collapsed": false,
     "input": [
      "df"
     ],
     "language": "python",
     "metadata": {},
     "outputs": [
      {
       "html": [
        "<div style=\"max-height:1000px;max-width:1500px;overflow:auto;\">\n",
        "<table border=\"1\" class=\"dataframe\">\n",
        "  <thead>\n",
        "    <tr style=\"text-align: right;\">\n",
        "      <th></th>\n",
        "      <th>x</th>\n",
        "      <th>y</th>\n",
        "    </tr>\n",
        "  </thead>\n",
        "  <tbody>\n",
        "    <tr>\n",
        "      <th>0</th>\n",
        "      <td> 0.80</td>\n",
        "      <td> 1.39</td>\n",
        "    </tr>\n",
        "    <tr>\n",
        "      <th>1</th>\n",
        "      <td> 0.47</td>\n",
        "      <td> 0.72</td>\n",
        "    </tr>\n",
        "    <tr>\n",
        "      <th>2</th>\n",
        "      <td> 0.51</td>\n",
        "      <td> 1.55</td>\n",
        "    </tr>\n",
        "    <tr>\n",
        "      <th>3</th>\n",
        "      <td> 0.73</td>\n",
        "      <td> 0.48</td>\n",
        "    </tr>\n",
        "    <tr>\n",
        "      <th>4</th>\n",
        "      <td> 0.36</td>\n",
        "      <td> 1.19</td>\n",
        "    </tr>\n",
        "    <tr>\n",
        "      <th>5</th>\n",
        "      <td> 0.58</td>\n",
        "      <td>-1.59</td>\n",
        "    </tr>\n",
        "    <tr>\n",
        "      <th>6</th>\n",
        "      <td> 0.57</td>\n",
        "      <td> 1.23</td>\n",
        "    </tr>\n",
        "    <tr>\n",
        "      <th>7</th>\n",
        "      <td> 0.85</td>\n",
        "      <td>-0.65</td>\n",
        "    </tr>\n",
        "    <tr>\n",
        "      <th>8</th>\n",
        "      <td> 0.44</td>\n",
        "      <td> 1.49</td>\n",
        "    </tr>\n",
        "    <tr>\n",
        "      <th>9</th>\n",
        "      <td> 0.42</td>\n",
        "      <td> 0.05</td>\n",
        "    </tr>\n",
        "  </tbody>\n",
        "</table>\n",
        "</div>"
       ],
       "metadata": {},
       "output_type": "pyout",
       "prompt_number": 79,
       "text": [
        "      x     y\n",
        "0  0.80  1.39\n",
        "1  0.47  0.72\n",
        "2  0.51  1.55\n",
        "3  0.73  0.48\n",
        "4  0.36  1.19\n",
        "5  0.58 -1.59\n",
        "6  0.57  1.23\n",
        "7  0.85 -0.65\n",
        "8  0.44  1.49\n",
        "9  0.42  0.05"
       ]
      }
     ],
     "prompt_number": 79
    },
    {
     "cell_type": "code",
     "collapsed": false,
     "input": [
      "r1 = sm.ols(\"x~y\", data=df).fit()\n",
      "r2 = sm.ols(\"y~x\", data=df).fit()"
     ],
     "language": "python",
     "metadata": {},
     "outputs": [],
     "prompt_number": 80
    },
    {
     "cell_type": "code",
     "collapsed": false,
     "input": [
      "r2.params.x / r1.params.y"
     ],
     "language": "python",
     "metadata": {},
     "outputs": [
      {
       "metadata": {},
       "output_type": "pyout",
       "prompt_number": 81,
       "text": [
        "38.390772016849851"
       ]
      }
     ],
     "prompt_number": 81
    },
    {
     "cell_type": "code",
     "collapsed": false,
     "input": [
      "df['y'].var() / df['x'].var()"
     ],
     "language": "python",
     "metadata": {},
     "outputs": [
      {
       "metadata": {},
       "output_type": "pyout",
       "prompt_number": 82,
       "text": [
        "38.390772016849652"
       ]
      }
     ],
     "prompt_number": 82
    },
    {
     "cell_type": "markdown",
     "metadata": {},
     "source": [
      "### Week 2\n",
      "<a id='week2'></a>"
     ]
    },
    {
     "cell_type": "markdown",
     "metadata": {},
     "source": [
      "# Statistical linear regression models"
     ]
    },
    {
     "cell_type": "markdown",
     "metadata": {},
     "source": [
      "## Basic regression model with additive Gaussian errors"
     ]
    },
    {
     "cell_type": "markdown",
     "metadata": {},
     "source": [
      "* Least squares is an estimation tool, how do we do inference?\n",
      "* Develop a probabilistic model for linear regression\n",
      "* $\\epsilon$ is the error\n",
      "\n",
      "$Y_i = \\beta_0 + \\beta_1X_i + \\epsilon_i$\n",
      "\n",
      "slope intercept line with error term"
     ]
    },
    {
     "cell_type": "markdown",
     "metadata": {},
     "source": [
      "Here the $\\epsilon_i$ are assumed iid $N(0, \\sigma^2)$"
     ]
    },
    {
     "cell_type": "markdown",
     "metadata": {},
     "source": [
      "$\n",
      "E[Y_i | X_i = x_i] = \\mu_i = \\beta_0 + \\beta_1X_i\n",
      "$\n",
      "\n",
      "The expected value of $Y_i$ given $x_i$ is the regression equation. You take the expected value of the equation above and the $E[\\epsilon_i]=0$"
     ]
    },
    {
     "cell_type": "markdown",
     "metadata": {},
     "source": [
      "$\n",
      "Var(Y_i | X_i = x_i) = \\sigma^2\n",
      "$"
     ]
    },
    {
     "cell_type": "markdown",
     "metadata": {},
     "source": [
      "## Likelihood\n",
      "\n",
      "* see the statistical inference class\n",
      "* The least squares estimate for $\\mu_i$ is exactly the maximum likelihood estimate"
     ]
    },
    {
     "cell_type": "markdown",
     "metadata": {},
     "source": [
      "## Recap\n",
      "<img \"src=images/likelihood_recap.png\"></img>"
     ]
    },
    {
     "cell_type": "markdown",
     "metadata": {},
     "source": [
      "## Interpreting regression coefficients"
     ]
    },
    {
     "cell_type": "markdown",
     "metadata": {},
     "source": [
      "$\\beta_0$ is the expected value of the response when the predictor is 0"
     ]
    },
    {
     "cell_type": "markdown",
     "metadata": {},
     "source": [
      "$E[Y|X=0] = \\beta_0 + \\beta_1 \\cdot 0 = \\beta_0$"
     ]
    },
    {
     "cell_type": "markdown",
     "metadata": {},
     "source": [
      "This isn't always interesting, when $X=0$ is impossible or far outside of the range of possiblvalues"
     ]
    },
    {
     "cell_type": "markdown",
     "metadata": {},
     "source": [
      "  You can shift the data by $a$, which changes the intercept but not the slope. In this way you can make the intercept interesting"
     ]
    },
    {
     "cell_type": "markdown",
     "metadata": {},
     "source": [
      "$\\beta_1$ is the expected change in response for a 1 unit change in the predictor"
     ]
    },
    {
     "cell_type": "markdown",
     "metadata": {},
     "source": [
      "Multiplication of $X$ by a factor of $a$ results in dividing the coefficient by a factor of $a$"
     ]
    },
    {
     "cell_type": "markdown",
     "metadata": {},
     "source": [
      "## Using the regression coefficients for prediction"
     ]
    },
    {
     "cell_type": "markdown",
     "metadata": {},
     "source": [
      "$\\hat Y = \\hat \\beta_0 + \\hat \\beta_1X$\n",
      "\n",
      "\n",
      "* TODO: Post Question:\n",
      "* Why are these $\\hat \\beta$ instead of just $\\beta$?\n",
      "\n",
      "<img src='images/prediction_question.png'></img>\n"
     ]
    },
    {
     "cell_type": "markdown",
     "metadata": {},
     "source": [
      "### Statistical Regression Models Examples"
     ]
    },
    {
     "cell_type": "code",
     "collapsed": false,
     "input": [
      "%%R -o diamond\n",
      "require(UsingR)\n",
      "require(ggplot2)\n",
      "data(diamond)\n",
      "g <- ggplot(diamond, aes(carat, price)) + geom_point() + theme_bw()\n",
      "g <- g + geom_smooth(method=lm, se=FALSE)\n",
      "g\n"
     ],
     "language": "python",
     "metadata": {},
     "outputs": [
      {
       "metadata": {},
       "output_type": "display_data",
       "png": "[encoded data removed]"
      }
     ],
     "prompt_number": 123
    },
    {
     "cell_type": "code",
     "collapsed": false,
     "input": [
      "formula = \"price ~ carat\"\n",
      "r1 = sm.ols(formula, data=diamond).fit()"
     ],
     "language": "python",
     "metadata": {},
     "outputs": [],
     "prompt_number": 136
    },
    {
     "cell_type": "code",
     "collapsed": false,
     "input": [
      "r1.summary()"
     ],
     "language": "python",
     "metadata": {},
     "outputs": [
      {
       "html": [
        "<table class=\"simpletable\">\n",
        "<caption>OLS Regression Results</caption>\n",
        "<tr>\n",
        "  <th>Dep. Variable:</th>          <td>price</td>      <th>  R-squared:         </th> <td>   0.978</td>\n",
        "</tr>\n",
        "<tr>\n",
        "  <th>Model:</th>                   <td>OLS</td>       <th>  Adj. R-squared:    </th> <td>   0.978</td>\n",
        "</tr>\n",
        "<tr>\n",
        "  <th>Method:</th>             <td>Least Squares</td>  <th>  F-statistic:       </th> <td>   2070.</td>\n",
        "</tr>\n",
        "<tr>\n",
        "  <th>Date:</th>             <td>Thu, 11 Sep 2014</td> <th>  Prob (F-statistic):</th> <td>6.75e-40</td>\n",
        "</tr>\n",
        "<tr>\n",
        "  <th>Time:</th>                 <td>15:04:43</td>     <th>  Log-Likelihood:    </th> <td> -233.20</td>\n",
        "</tr>\n",
        "<tr>\n",
        "  <th>No. Observations:</th>      <td>    48</td>      <th>  AIC:               </th> <td>   470.4</td>\n",
        "</tr>\n",
        "<tr>\n",
        "  <th>Df Residuals:</th>          <td>    46</td>      <th>  BIC:               </th> <td>   474.1</td>\n",
        "</tr>\n",
        "<tr>\n",
        "  <th>Df Model:</th>              <td>     1</td>      <th>                     </th>     <td> </td>   \n",
        "</tr>\n",
        "</table>\n",
        "<table class=\"simpletable\">\n",
        "<tr>\n",
        "      <td></td>         <th>coef</th>     <th>std err</th>      <th>t</th>      <th>P>|t|</th> <th>[95.0% Conf. Int.]</th> \n",
        "</tr>\n",
        "<tr>\n",
        "  <th>Intercept</th> <td> -259.6259</td> <td>   17.319</td> <td>  -14.991</td> <td> 0.000</td> <td> -294.487  -224.765</td>\n",
        "</tr>\n",
        "<tr>\n",
        "  <th>carat</th>     <td> 3721.0249</td> <td>   81.786</td> <td>   45.497</td> <td> 0.000</td> <td> 3556.398  3885.651</td>\n",
        "</tr>\n",
        "</table>\n",
        "<table class=\"simpletable\">\n",
        "<tr>\n",
        "  <th>Omnibus:</th>       <td> 0.739</td> <th>  Durbin-Watson:     </th> <td>   1.994</td>\n",
        "</tr>\n",
        "<tr>\n",
        "  <th>Prob(Omnibus):</th> <td> 0.691</td> <th>  Jarque-Bera (JB):  </th> <td>   0.181</td>\n",
        "</tr>\n",
        "<tr>\n",
        "  <th>Skew:</th>          <td> 0.056</td> <th>  Prob(JB):          </th> <td>   0.913</td>\n",
        "</tr>\n",
        "<tr>\n",
        "  <th>Kurtosis:</th>      <td> 3.280</td> <th>  Cond. No.          </th> <td>    18.5</td>\n",
        "</tr>\n",
        "</table>"
       ],
       "metadata": {},
       "output_type": "pyout",
       "prompt_number": 137,
       "text": [
        "<class 'statsmodels.iolib.summary.Summary'>\n",
        "\"\"\"\n",
        "                            OLS Regression Results                            \n",
        "==============================================================================\n",
        "Dep. Variable:                  price   R-squared:                       0.978\n",
        "Model:                            OLS   Adj. R-squared:                  0.978\n",
        "Method:                 Least Squares   F-statistic:                     2070.\n",
        "Date:                Thu, 11 Sep 2014   Prob (F-statistic):           6.75e-40\n",
        "Time:                        15:04:43   Log-Likelihood:                -233.20\n",
        "No. Observations:                  48   AIC:                             470.4\n",
        "Df Residuals:                      46   BIC:                             474.1\n",
        "Df Model:                           1                                         \n",
        "==============================================================================\n",
        "                 coef    std err          t      P>|t|      [95.0% Conf. Int.]\n",
        "------------------------------------------------------------------------------\n",
        "Intercept   -259.6259     17.319    -14.991      0.000      -294.487  -224.765\n",
        "carat       3721.0249     81.786     45.497      0.000      3556.398  3885.651\n",
        "==============================================================================\n",
        "Omnibus:                        0.739   Durbin-Watson:                   1.994\n",
        "Prob(Omnibus):                  0.691   Jarque-Bera (JB):                0.181\n",
        "Skew:                           0.056   Prob(JB):                        0.913\n",
        "Kurtosis:                       3.280   Cond. No.                         18.5\n",
        "==============================================================================\n",
        "\"\"\""
       ]
      }
     ],
     "prompt_number": 137
    },
    {
     "cell_type": "code",
     "collapsed": false,
     "input": [
      "# same formula, but subtracting out the carat mean to get a usable intercept values\n",
      "f = \"price ~ I(carat - carat.mean())\"\n",
      "r2 = sm.ols(f, data=diamond).fit()"
     ],
     "language": "python",
     "metadata": {},
     "outputs": [],
     "prompt_number": 152
    },
    {
     "cell_type": "code",
     "collapsed": false,
     "input": [
      "# note that the slope is the same\n",
      "print r1.params\n",
      "print r2.params\n",
      "print diamond.price.mean()"
     ],
     "language": "python",
     "metadata": {},
     "outputs": [
      {
       "output_type": "stream",
       "stream": "stdout",
       "text": [
        "Intercept    -259.625907\n",
        "carat        3721.024852\n",
        "dtype: float64\n",
        "Intercept                   500.083333\n",
        "I(carat - carat.mean())    3721.024852\n",
        "dtype: float64\n",
        "500.083333333\n"
       ]
      }
     ],
     "prompt_number": 153
    },
    {
     "cell_type": "markdown",
     "metadata": {},
     "source": [
      "$500 (the intercept) is the expected price for the average sized diamond of the data"
     ]
    },
    {
     "cell_type": "markdown",
     "metadata": {},
     "source": [
      "### Changing Scale"
     ]
    },
    {
     "cell_type": "code",
     "collapsed": false,
     "input": [
      "# A one carat increase in diamond is pretty big.\n",
      "f = \"price ~ I(carat *10)\"\n",
      "r3 = sm.ols(f, data=diamond).fit()\n",
      "r3.params"
     ],
     "language": "python",
     "metadata": {},
     "outputs": [
      {
       "metadata": {},
       "output_type": "pyout",
       "prompt_number": 157,
       "text": [
        "Intercept       -259.625907\n",
        "I(carat * 10)    372.102485\n",
        "dtype: float64"
       ]
      }
     ],
     "prompt_number": 157
    },
    {
     "cell_type": "code",
     "collapsed": false,
     "input": [
      "# And the slope is 1/coef we mutliplied the regressor by"
     ],
     "language": "python",
     "metadata": {},
     "outputs": [],
     "prompt_number": 159
    },
    {
     "cell_type": "code",
     "collapsed": false,
     "input": [
      "df = pd.DataFrame([0.16, 0.27, 0.34], columns=['carat'])\n",
      "df['price'] = r3.predict(df)\n",
      "df"
     ],
     "language": "python",
     "metadata": {},
     "outputs": [
      {
       "html": [
        "<div style=\"max-height:1000px;max-width:1500px;overflow:auto;\">\n",
        "<table border=\"1\" class=\"dataframe\">\n",
        "  <thead>\n",
        "    <tr style=\"text-align: right;\">\n",
        "      <th></th>\n",
        "      <th>carat</th>\n",
        "      <th>price</th>\n",
        "    </tr>\n",
        "  </thead>\n",
        "  <tbody>\n",
        "    <tr>\n",
        "      <th>0</th>\n",
        "      <td> 0.16</td>\n",
        "      <td>  335.738069</td>\n",
        "    </tr>\n",
        "    <tr>\n",
        "      <th>1</th>\n",
        "      <td> 0.27</td>\n",
        "      <td>  745.050803</td>\n",
        "    </tr>\n",
        "    <tr>\n",
        "      <th>2</th>\n",
        "      <td> 0.34</td>\n",
        "      <td> 1005.522542</td>\n",
        "    </tr>\n",
        "  </tbody>\n",
        "</table>\n",
        "</div>"
       ],
       "metadata": {},
       "output_type": "pyout",
       "prompt_number": 216,
       "text": [
        "   carat        price\n",
        "0   0.16   335.738069\n",
        "1   0.27   745.050803\n",
        "2   0.34  1005.522542"
       ]
      }
     ],
     "prompt_number": 216
    },
    {
     "cell_type": "code",
     "collapsed": false,
     "input": [
      "diamond['price_predict'] = r3.predict(diamond)"
     ],
     "language": "python",
     "metadata": {},
     "outputs": [],
     "prompt_number": 217
    },
    {
     "cell_type": "code",
     "collapsed": false,
     "input": [
      "%%R -i diamond\n",
      "g <- ggplot(diamond, aes(carat, price)) + geom_point(color='green')\n",
      "g <- g + geom_line(data=diamond, aes(carat, price_predict), colour='blue', linetype=2) \n",
      "g <- g + geom_point(data=diamond, aes(carat, price_predict), colour='red', shape=3) \n",
      "g + theme_bw()"
     ],
     "language": "python",
     "metadata": {},
     "outputs": [
      {
       "metadata": {},
       "output_type": "display_data",
       "png": "[encoded data removed]"
      }
     ],
     "prompt_number": 229
    },
    {
     "cell_type": "code",
     "collapsed": false,
     "input": [
      "# green dots - actual observations\n",
      "# blue dashed line - predictions\n",
      "# red dashes - places where we made predictions. Note that these are the same x_i values where we have observed points"
     ],
     "language": "python",
     "metadata": {},
     "outputs": [],
     "prompt_number": 230
    }
   ],
   "metadata": {}
  }
 ]
}